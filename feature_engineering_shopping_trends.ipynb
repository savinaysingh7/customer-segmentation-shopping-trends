{
 "cells": [
  {
   "cell_type": "markdown",
   "id": "367d6482",
   "metadata": {},
   "source": [
    "# Feature Engineering for Shopping Trends\n",
    "\n",
    "This notebook demonstrates feature engineering techniques to enhance customer segmentation using the `shopping_trends.csv` dataset."
   ]
  },
  {
   "cell_type": "markdown",
   "id": "5b4c748a",
   "metadata": {},
   "source": [
    "## Feature Engineering Process Outline\n",
    "\n",
    "- Create new features to capture customer value, engagement, demographics, price sensitivity, preferences, and satisfaction.\n",
    "- Transform categorical variables into meaningful numerical or grouped features."
   ]
  },
  {
   "cell_type": "markdown",
   "id": "2475e6df",
   "metadata": {},
   "source": [
    "## Step 1: Import Required Libraries\n",
    "\n",
    "We use pandas for data manipulation and numpy for numerical operations."
   ]
  },
  {
   "cell_type": "code",
   "execution_count": 1,
   "id": "1ccb82c8",
   "metadata": {},
   "outputs": [],
   "source": [
    "import pandas as pd\n",
    "import numpy as np"
   ]
  },
  {
   "cell_type": "markdown",
   "id": "5ec62f61",
   "metadata": {},
   "source": [
    "## Step 2: Load the Dataset\n",
    "\n",
    "Read the CSV file and display the first few rows."
   ]
  },
  {
   "cell_type": "code",
   "execution_count": 2,
   "id": "dcb57388",
   "metadata": {},
   "outputs": [
    {
     "data": {
      "text/html": [
       "<div>\n",
       "<style scoped>\n",
       "    .dataframe tbody tr th:only-of-type {\n",
       "        vertical-align: middle;\n",
       "    }\n",
       "\n",
       "    .dataframe tbody tr th {\n",
       "        vertical-align: top;\n",
       "    }\n",
       "\n",
       "    .dataframe thead th {\n",
       "        text-align: right;\n",
       "    }\n",
       "</style>\n",
       "<table border=\"1\" class=\"dataframe\">\n",
       "  <thead>\n",
       "    <tr style=\"text-align: right;\">\n",
       "      <th></th>\n",
       "      <th>Customer ID</th>\n",
       "      <th>Age</th>\n",
       "      <th>Gender</th>\n",
       "      <th>Item Purchased</th>\n",
       "      <th>Category</th>\n",
       "      <th>Purchase Amount (USD)</th>\n",
       "      <th>Location</th>\n",
       "      <th>Size</th>\n",
       "      <th>Color</th>\n",
       "      <th>Season</th>\n",
       "      <th>Review Rating</th>\n",
       "      <th>Subscription Status</th>\n",
       "      <th>Payment Method</th>\n",
       "      <th>Shipping Type</th>\n",
       "      <th>Discount Applied</th>\n",
       "      <th>Promo Code Used</th>\n",
       "      <th>Previous Purchases</th>\n",
       "      <th>Preferred Payment Method</th>\n",
       "      <th>Frequency of Purchases</th>\n",
       "    </tr>\n",
       "  </thead>\n",
       "  <tbody>\n",
       "    <tr>\n",
       "      <th>0</th>\n",
       "      <td>1</td>\n",
       "      <td>55</td>\n",
       "      <td>Male</td>\n",
       "      <td>Blouse</td>\n",
       "      <td>Clothing</td>\n",
       "      <td>53</td>\n",
       "      <td>Kentucky</td>\n",
       "      <td>L</td>\n",
       "      <td>Gray</td>\n",
       "      <td>Winter</td>\n",
       "      <td>3.1</td>\n",
       "      <td>Yes</td>\n",
       "      <td>Credit Card</td>\n",
       "      <td>Express</td>\n",
       "      <td>Yes</td>\n",
       "      <td>Yes</td>\n",
       "      <td>14</td>\n",
       "      <td>Venmo</td>\n",
       "      <td>Fortnightly</td>\n",
       "    </tr>\n",
       "    <tr>\n",
       "      <th>1</th>\n",
       "      <td>2</td>\n",
       "      <td>19</td>\n",
       "      <td>Male</td>\n",
       "      <td>Sweater</td>\n",
       "      <td>Clothing</td>\n",
       "      <td>64</td>\n",
       "      <td>Maine</td>\n",
       "      <td>L</td>\n",
       "      <td>Maroon</td>\n",
       "      <td>Winter</td>\n",
       "      <td>3.1</td>\n",
       "      <td>Yes</td>\n",
       "      <td>Bank Transfer</td>\n",
       "      <td>Express</td>\n",
       "      <td>Yes</td>\n",
       "      <td>Yes</td>\n",
       "      <td>2</td>\n",
       "      <td>Cash</td>\n",
       "      <td>Fortnightly</td>\n",
       "    </tr>\n",
       "    <tr>\n",
       "      <th>2</th>\n",
       "      <td>3</td>\n",
       "      <td>50</td>\n",
       "      <td>Male</td>\n",
       "      <td>Jeans</td>\n",
       "      <td>Clothing</td>\n",
       "      <td>73</td>\n",
       "      <td>Massachusetts</td>\n",
       "      <td>S</td>\n",
       "      <td>Maroon</td>\n",
       "      <td>Spring</td>\n",
       "      <td>3.1</td>\n",
       "      <td>Yes</td>\n",
       "      <td>Cash</td>\n",
       "      <td>Free Shipping</td>\n",
       "      <td>Yes</td>\n",
       "      <td>Yes</td>\n",
       "      <td>23</td>\n",
       "      <td>Credit Card</td>\n",
       "      <td>Weekly</td>\n",
       "    </tr>\n",
       "    <tr>\n",
       "      <th>3</th>\n",
       "      <td>4</td>\n",
       "      <td>21</td>\n",
       "      <td>Male</td>\n",
       "      <td>Sandals</td>\n",
       "      <td>Footwear</td>\n",
       "      <td>90</td>\n",
       "      <td>Rhode Island</td>\n",
       "      <td>M</td>\n",
       "      <td>Maroon</td>\n",
       "      <td>Spring</td>\n",
       "      <td>3.5</td>\n",
       "      <td>Yes</td>\n",
       "      <td>PayPal</td>\n",
       "      <td>Next Day Air</td>\n",
       "      <td>Yes</td>\n",
       "      <td>Yes</td>\n",
       "      <td>49</td>\n",
       "      <td>PayPal</td>\n",
       "      <td>Weekly</td>\n",
       "    </tr>\n",
       "    <tr>\n",
       "      <th>4</th>\n",
       "      <td>5</td>\n",
       "      <td>45</td>\n",
       "      <td>Male</td>\n",
       "      <td>Blouse</td>\n",
       "      <td>Clothing</td>\n",
       "      <td>49</td>\n",
       "      <td>Oregon</td>\n",
       "      <td>M</td>\n",
       "      <td>Turquoise</td>\n",
       "      <td>Spring</td>\n",
       "      <td>2.7</td>\n",
       "      <td>Yes</td>\n",
       "      <td>Cash</td>\n",
       "      <td>Free Shipping</td>\n",
       "      <td>Yes</td>\n",
       "      <td>Yes</td>\n",
       "      <td>31</td>\n",
       "      <td>PayPal</td>\n",
       "      <td>Annually</td>\n",
       "    </tr>\n",
       "  </tbody>\n",
       "</table>\n",
       "</div>"
      ],
      "text/plain": [
       "   Customer ID  Age Gender Item Purchased  Category  Purchase Amount (USD)  \\\n",
       "0            1   55   Male         Blouse  Clothing                     53   \n",
       "1            2   19   Male        Sweater  Clothing                     64   \n",
       "2            3   50   Male          Jeans  Clothing                     73   \n",
       "3            4   21   Male        Sandals  Footwear                     90   \n",
       "4            5   45   Male         Blouse  Clothing                     49   \n",
       "\n",
       "        Location Size      Color  Season  Review Rating Subscription Status  \\\n",
       "0       Kentucky    L       Gray  Winter            3.1                 Yes   \n",
       "1          Maine    L     Maroon  Winter            3.1                 Yes   \n",
       "2  Massachusetts    S     Maroon  Spring            3.1                 Yes   \n",
       "3   Rhode Island    M     Maroon  Spring            3.5                 Yes   \n",
       "4         Oregon    M  Turquoise  Spring            2.7                 Yes   \n",
       "\n",
       "  Payment Method  Shipping Type Discount Applied Promo Code Used  \\\n",
       "0    Credit Card        Express              Yes             Yes   \n",
       "1  Bank Transfer        Express              Yes             Yes   \n",
       "2           Cash  Free Shipping              Yes             Yes   \n",
       "3         PayPal   Next Day Air              Yes             Yes   \n",
       "4           Cash  Free Shipping              Yes             Yes   \n",
       "\n",
       "   Previous Purchases Preferred Payment Method Frequency of Purchases  \n",
       "0                  14                    Venmo            Fortnightly  \n",
       "1                   2                     Cash            Fortnightly  \n",
       "2                  23              Credit Card                 Weekly  \n",
       "3                  49                   PayPal                 Weekly  \n",
       "4                  31                   PayPal               Annually  "
      ]
     },
     "execution_count": 2,
     "metadata": {},
     "output_type": "execute_result"
    }
   ],
   "source": [
    "df = pd.read_csv('shopping_trends.csv')\n",
    "df.head()"
   ]
  },
  {
   "cell_type": "markdown",
   "id": "1ec844e4",
   "metadata": {},
   "source": [
    "## Step 3: Drop Irrelevant Columns\n",
    "\n",
    "Remove columns like `Customer ID` that do not contribute to feature engineering."
   ]
  },
  {
   "cell_type": "code",
   "execution_count": 3,
   "id": "c3b2bfaf",
   "metadata": {},
   "outputs": [],
   "source": [
    "df = df.drop(columns=['Customer ID'], errors='ignore')"
   ]
  },
  {
   "cell_type": "markdown",
   "id": "b4a7a136",
   "metadata": {},
   "source": [
    "## Step 4: Engineer Customer Lifetime Value (CLV) Proxy\n",
    "\n",
    "Estimate total customer value by multiplying `Purchase Amount (USD)` by `Previous Purchases`."
   ]
  },
  {
   "cell_type": "code",
   "execution_count": 4,
   "id": "c5cab62d",
   "metadata": {},
   "outputs": [],
   "source": [
    "df['CLV'] = df['Purchase Amount (USD)'] * df['Previous Purchases']"
   ]
  },
  {
   "cell_type": "markdown",
   "id": "6874575f",
   "metadata": {},
   "source": [
    "## Step 5: Engineer Purchase Frequency Score\n",
    "\n",
    "Map categorical `Frequency of Purchases` to a numerical score to quantify engagement."
   ]
  },
  {
   "cell_type": "code",
   "execution_count": 5,
   "id": "9595a3eb",
   "metadata": {},
   "outputs": [],
   "source": [
    "freq_mapping = {\n",
    "    'Weekly': 7,\n",
    "    'Fortnightly': 6,\n",
    "    'Bi-Weekly': 5,\n",
    "    'Monthly': 4,\n",
    "    'Every 3 Months': 3,\n",
    "    'Quarterly': 2,\n",
    "    'Annually': 1\n",
    "}\n",
    "df['Purchase_Frequency_Score'] = df['Frequency of Purchases'].map(freq_mapping)"
   ]
  },
  {
   "cell_type": "markdown",
   "id": "ca510de7",
   "metadata": {},
   "source": [
    "## Step 6: Create Age Group Feature\n",
    "\n",
    "Bin the `Age` column into three groups: Young, Middle, Senior."
   ]
  },
  {
   "cell_type": "code",
   "execution_count": 6,
   "id": "c585accd",
   "metadata": {},
   "outputs": [],
   "source": [
    "bins = [18, 30, 50, 100]\n",
    "labels = ['Young', 'Middle', 'Senior']\n",
    "df['Age_Group'] = pd.cut(df['Age'], bins=bins, labels=labels, include_lowest=True)"
   ]
  },
  {
   "cell_type": "markdown",
   "id": "7b8fcec0",
   "metadata": {},
   "source": [
    "## Step 7: Engineer Discount Sensitivity Feature\n",
    "\n",
    "Create a binary feature indicating if both `Discount Applied` and `Promo Code Used` are 'Yes'."
   ]
  },
  {
   "cell_type": "code",
   "execution_count": 7,
   "id": "c1250446",
   "metadata": {},
   "outputs": [],
   "source": [
    "df['Discount_Sensitivity'] = ((df['Discount Applied'] == 'Yes') & (df['Promo Code Used'] == 'Yes')).astype(int)"
   ]
  },
  {
   "cell_type": "markdown",
   "id": "0a32c107",
   "metadata": {},
   "source": [
    "## Step 8: Category Preference Feature\n",
    "\n",
    "Assume each row's `Category` is the dominant category for the purchase. For multiple purchases per customer, aggregation would be needed."
   ]
  },
  {
   "cell_type": "code",
   "execution_count": 8,
   "id": "3326404d",
   "metadata": {},
   "outputs": [],
   "source": [
    "df['Dominant_Category'] = df['Category']"
   ]
  },
  {
   "cell_type": "markdown",
   "id": "f17667e2",
   "metadata": {},
   "source": [
    "## Step 9: Engineer Seasonal Spending Feature\n",
    "\n",
    "Create a binary feature for purchases made in Winter or Spring."
   ]
  },
  {
   "cell_type": "code",
   "execution_count": 9,
   "id": "dc0fad79",
   "metadata": {},
   "outputs": [],
   "source": [
    "df['Winter_Spring_Buyer'] = df['Season'].isin(['Winter', 'Spring']).astype(int)"
   ]
  },
  {
   "cell_type": "markdown",
   "id": "98475d87",
   "metadata": {},
   "source": [
    "## Step 10: Review Rating Category Feature\n",
    "\n",
    "Bin `Review Rating` into Low (<3), Medium (3–4), and High (>4) categories."
   ]
  },
  {
   "cell_type": "code",
   "execution_count": 10,
   "id": "0320f0bb",
   "metadata": {},
   "outputs": [],
   "source": [
    "rating_bins = [0, 3, 4, 5]\n",
    "rating_labels = ['Low', 'Medium', 'High']\n",
    "df['Review_Rating_Category'] = pd.cut(df['Review Rating'], bins=rating_bins, labels=rating_labels, include_lowest=True)"
   ]
  },
  {
   "cell_type": "markdown",
   "id": "e77d581b",
   "metadata": {},
   "source": [
    "## Step 11: Validate New Features\n",
    "\n",
    "Display the first few rows of the new features to verify correctness."
   ]
  },
  {
   "cell_type": "code",
   "execution_count": 11,
   "id": "cc01eb0f",
   "metadata": {},
   "outputs": [
    {
     "name": "stdout",
     "output_type": "stream",
     "text": [
      "New Features Added:\n",
      "\n",
      "    CLV  Purchase_Frequency_Score Age_Group  Discount_Sensitivity  \\\n",
      "0   742                         6    Senior                     1   \n",
      "1   128                         6     Young                     1   \n",
      "2  1679                         7    Middle                     1   \n",
      "3  4410                         7     Young                     1   \n",
      "4  1519                         1    Middle                     1   \n",
      "\n",
      "  Dominant_Category  Winter_Spring_Buyer Review_Rating_Category  \n",
      "0          Clothing                    1                 Medium  \n",
      "1          Clothing                    1                 Medium  \n",
      "2          Clothing                    1                 Medium  \n",
      "3          Footwear                    1                 Medium  \n",
      "4          Clothing                    1                    Low  \n"
     ]
    }
   ],
   "source": [
    "print(\"New Features Added:\\n\")\n",
    "print(df[['CLV', 'Purchase_Frequency_Score', 'Age_Group', 'Discount_Sensitivity', \n",
    "         'Dominant_Category', 'Winter_Spring_Buyer', 'Review_Rating_Category']].head())"
   ]
  },
  {
   "cell_type": "markdown",
   "id": "0e2ad4dc",
   "metadata": {},
   "source": [
    "## Step 12: Save Dataset with Engineered Features\n",
    "\n",
    "Export the enhanced dataset for further analysis."
   ]
  },
  {
   "cell_type": "code",
   "execution_count": 12,
   "id": "4fc3ffc8",
   "metadata": {},
   "outputs": [
    {
     "name": "stdout",
     "output_type": "stream",
     "text": [
      "Dataset with engineered features saved to 'shopping_trends_engineered.csv'\n"
     ]
    }
   ],
   "source": [
    "df.to_csv('shopping_trends_engineered.csv', index=False)\n",
    "print(\"Dataset with engineered features saved to 'shopping_trends_engineered.csv'\")"
   ]
  },
  {
   "cell_type": "markdown",
   "id": "f53eb3ea",
   "metadata": {},
   "source": [
    "## Step 13: Summary of New Features\n",
    "\n",
    "Show summary statistics and distributions for the engineered features."
   ]
  },
  {
   "cell_type": "code",
   "execution_count": 13,
   "id": "cfb19905",
   "metadata": {},
   "outputs": [
    {
     "name": "stdout",
     "output_type": "stream",
     "text": [
      "\n",
      "Summary of New Features:\n",
      "\n",
      "               CLV  Purchase_Frequency_Score  Discount_Sensitivity  \\\n",
      "count  3900.000000               3900.000000           3900.000000   \n",
      "mean   1517.876923                  3.954359              0.430000   \n",
      "std    1116.943053                  1.996527              0.495139   \n",
      "min      21.000000                  1.000000              0.000000   \n",
      "25%     619.000000                  2.000000              0.000000   \n",
      "50%    1278.000000                  4.000000              0.000000   \n",
      "75%    2211.750000                  6.000000              1.000000   \n",
      "max    5000.000000                  7.000000              1.000000   \n",
      "\n",
      "       Winter_Spring_Buyer  \n",
      "count          3900.000000  \n",
      "mean              0.505128  \n",
      "std               0.500038  \n",
      "min               0.000000  \n",
      "25%               0.000000  \n",
      "50%               1.000000  \n",
      "75%               1.000000  \n",
      "max               1.000000  \n",
      "\n",
      "Age Group Distribution:\n",
      " Age_Group\n",
      "Senior    1476\n",
      "Middle    1475\n",
      "Young      949\n",
      "Name: count, dtype: int64\n",
      "\n",
      "Review Rating Category Distribution:\n",
      " Review_Rating_Category\n",
      "Medium    1590\n",
      "High      1463\n",
      "Low        847\n",
      "Name: count, dtype: int64\n",
      "\n",
      "Dominant Category Distribution:\n",
      " Dominant_Category\n",
      "Clothing       1737\n",
      "Accessories    1240\n",
      "Footwear        599\n",
      "Outerwear       324\n",
      "Name: count, dtype: int64\n"
     ]
    }
   ],
   "source": [
    "print(\"\\nSummary of New Features:\\n\")\n",
    "print(df[['CLV', 'Purchase_Frequency_Score', 'Discount_Sensitivity', 'Winter_Spring_Buyer']].describe())\n",
    "print(\"\\nAge Group Distribution:\\n\", df['Age_Group'].value_counts())\n",
    "print(\"\\nReview Rating Category Distribution:\\n\", df['Review_Rating_Category'].value_counts())\n",
    "print(\"\\nDominant Category Distribution:\\n\", df['Dominant_Category'].value_counts())"
   ]
  },
  {
   "cell_type": "markdown",
   "id": "78b7da3c",
   "metadata": {},
   "source": [
    "## Explanation of Feature Engineering Steps\n",
    "\n",
    "- **CLV Proxy:** Estimates total customer value by multiplying purchase amount by previous purchases.\n",
    "- **Purchase Frequency Score:** Converts purchase frequency to a numerical scale for engagement quantification.\n",
    "- **Age Group:** Bins age into Young, Middle, Senior for demographic analysis.\n",
    "- **Discount Sensitivity:** Flags customers who use both discounts and promo codes.\n",
    "- **Category Preference:** Uses the purchase category as a proxy for customer preference.\n",
    "- **Seasonal Spending:** Identifies customers who buy in Winter/Spring.\n",
    "- **Review Rating Category:** Groups review ratings into satisfaction levels.\n",
    "\n",
    "The enhanced dataset is saved for use in clustering and further analysis."
   ]
  }
 ],
 "metadata": {
  "kernelspec": {
   "display_name": "Python 3",
   "language": "python",
   "name": "python3"
  },
  "language_info": {
   "codemirror_mode": {
    "name": "ipython",
    "version": 3
   },
   "file_extension": ".py",
   "mimetype": "text/x-python",
   "name": "python",
   "nbconvert_exporter": "python",
   "pygments_lexer": "ipython3",
   "version": "3.12.10"
  }
 },
 "nbformat": 4,
 "nbformat_minor": 5
}
