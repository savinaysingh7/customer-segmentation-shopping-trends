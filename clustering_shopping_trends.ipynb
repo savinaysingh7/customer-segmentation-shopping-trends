{
 "cells": [
  {
   "cell_type": "markdown",
   "id": "41039067",
   "metadata": {},
   "source": [
    "# Clustering Model for Shopping Trends\n",
    "\n",
    "This notebook segments customers based on their purchase patterns, demographics, and engineered features using clustering algorithms."
   ]
  },
  {
   "cell_type": "markdown",
   "id": "f175709c",
   "metadata": {},
   "source": [
    "## Clustering Process Outline\n",
    "\n",
    "- Load and preprocess the engineered dataset\n",
    "- Select and evaluate clustering algorithms\n",
    "- Determine optimal number of clusters\n",
    "- Train and interpret the clustering model\n",
    "- Visualize and save results"
   ]
  },
  {
   "cell_type": "markdown",
   "id": "44df9d8c",
   "metadata": {},
   "source": [
    "## Step 1: Import Required Libraries\n",
    "\n",
    "We use pandas for data manipulation, scikit-learn for clustering and preprocessing, matplotlib/seaborn for visualization, and plotly for interactive plots."
   ]
  },
  {
   "cell_type": "code",
   "execution_count": 1,
   "id": "7360e976",
   "metadata": {},
   "outputs": [],
   "source": [
    "import pandas as pd\n",
    "import numpy as np\n",
    "from sklearn.cluster import KMeans\n",
    "from sklearn.preprocessing import StandardScaler, OneHotEncoder\n",
    "from sklearn.compose import ColumnTransformer\n",
    "from sklearn.pipeline import Pipeline\n",
    "import matplotlib.pyplot as plt\n",
    "import seaborn as sns\n",
    "from sklearn.metrics import silhouette_score\n",
    "import plotly.express as px"
   ]
  },
  {
   "cell_type": "markdown",
   "id": "c5db0cad",
   "metadata": {},
   "source": [
    "## Step 2: Load the Engineered Dataset\n",
    "\n",
    "Read the enhanced dataset and display the first few rows."
   ]
  },
  {
   "cell_type": "code",
   "execution_count": 2,
   "id": "b2c9c347",
   "metadata": {},
   "outputs": [
    {
     "data": {
      "text/html": [
       "<div>\n",
       "<style scoped>\n",
       "    .dataframe tbody tr th:only-of-type {\n",
       "        vertical-align: middle;\n",
       "    }\n",
       "\n",
       "    .dataframe tbody tr th {\n",
       "        vertical-align: top;\n",
       "    }\n",
       "\n",
       "    .dataframe thead th {\n",
       "        text-align: right;\n",
       "    }\n",
       "</style>\n",
       "<table border=\"1\" class=\"dataframe\">\n",
       "  <thead>\n",
       "    <tr style=\"text-align: right;\">\n",
       "      <th></th>\n",
       "      <th>Age</th>\n",
       "      <th>Gender</th>\n",
       "      <th>Item Purchased</th>\n",
       "      <th>Category</th>\n",
       "      <th>Purchase Amount (USD)</th>\n",
       "      <th>Location</th>\n",
       "      <th>Size</th>\n",
       "      <th>Color</th>\n",
       "      <th>Season</th>\n",
       "      <th>Review Rating</th>\n",
       "      <th>...</th>\n",
       "      <th>Previous Purchases</th>\n",
       "      <th>Preferred Payment Method</th>\n",
       "      <th>Frequency of Purchases</th>\n",
       "      <th>CLV</th>\n",
       "      <th>Purchase_Frequency_Score</th>\n",
       "      <th>Age_Group</th>\n",
       "      <th>Discount_Sensitivity</th>\n",
       "      <th>Dominant_Category</th>\n",
       "      <th>Winter_Spring_Buyer</th>\n",
       "      <th>Review_Rating_Category</th>\n",
       "    </tr>\n",
       "  </thead>\n",
       "  <tbody>\n",
       "    <tr>\n",
       "      <th>0</th>\n",
       "      <td>55</td>\n",
       "      <td>Male</td>\n",
       "      <td>Blouse</td>\n",
       "      <td>Clothing</td>\n",
       "      <td>53</td>\n",
       "      <td>Kentucky</td>\n",
       "      <td>L</td>\n",
       "      <td>Gray</td>\n",
       "      <td>Winter</td>\n",
       "      <td>3.1</td>\n",
       "      <td>...</td>\n",
       "      <td>14</td>\n",
       "      <td>Venmo</td>\n",
       "      <td>Fortnightly</td>\n",
       "      <td>742</td>\n",
       "      <td>6</td>\n",
       "      <td>Senior</td>\n",
       "      <td>1</td>\n",
       "      <td>Clothing</td>\n",
       "      <td>1</td>\n",
       "      <td>Medium</td>\n",
       "    </tr>\n",
       "    <tr>\n",
       "      <th>1</th>\n",
       "      <td>19</td>\n",
       "      <td>Male</td>\n",
       "      <td>Sweater</td>\n",
       "      <td>Clothing</td>\n",
       "      <td>64</td>\n",
       "      <td>Maine</td>\n",
       "      <td>L</td>\n",
       "      <td>Maroon</td>\n",
       "      <td>Winter</td>\n",
       "      <td>3.1</td>\n",
       "      <td>...</td>\n",
       "      <td>2</td>\n",
       "      <td>Cash</td>\n",
       "      <td>Fortnightly</td>\n",
       "      <td>128</td>\n",
       "      <td>6</td>\n",
       "      <td>Young</td>\n",
       "      <td>1</td>\n",
       "      <td>Clothing</td>\n",
       "      <td>1</td>\n",
       "      <td>Medium</td>\n",
       "    </tr>\n",
       "    <tr>\n",
       "      <th>2</th>\n",
       "      <td>50</td>\n",
       "      <td>Male</td>\n",
       "      <td>Jeans</td>\n",
       "      <td>Clothing</td>\n",
       "      <td>73</td>\n",
       "      <td>Massachusetts</td>\n",
       "      <td>S</td>\n",
       "      <td>Maroon</td>\n",
       "      <td>Spring</td>\n",
       "      <td>3.1</td>\n",
       "      <td>...</td>\n",
       "      <td>23</td>\n",
       "      <td>Credit Card</td>\n",
       "      <td>Weekly</td>\n",
       "      <td>1679</td>\n",
       "      <td>7</td>\n",
       "      <td>Middle</td>\n",
       "      <td>1</td>\n",
       "      <td>Clothing</td>\n",
       "      <td>1</td>\n",
       "      <td>Medium</td>\n",
       "    </tr>\n",
       "    <tr>\n",
       "      <th>3</th>\n",
       "      <td>21</td>\n",
       "      <td>Male</td>\n",
       "      <td>Sandals</td>\n",
       "      <td>Footwear</td>\n",
       "      <td>90</td>\n",
       "      <td>Rhode Island</td>\n",
       "      <td>M</td>\n",
       "      <td>Maroon</td>\n",
       "      <td>Spring</td>\n",
       "      <td>3.5</td>\n",
       "      <td>...</td>\n",
       "      <td>49</td>\n",
       "      <td>PayPal</td>\n",
       "      <td>Weekly</td>\n",
       "      <td>4410</td>\n",
       "      <td>7</td>\n",
       "      <td>Young</td>\n",
       "      <td>1</td>\n",
       "      <td>Footwear</td>\n",
       "      <td>1</td>\n",
       "      <td>Medium</td>\n",
       "    </tr>\n",
       "    <tr>\n",
       "      <th>4</th>\n",
       "      <td>45</td>\n",
       "      <td>Male</td>\n",
       "      <td>Blouse</td>\n",
       "      <td>Clothing</td>\n",
       "      <td>49</td>\n",
       "      <td>Oregon</td>\n",
       "      <td>M</td>\n",
       "      <td>Turquoise</td>\n",
       "      <td>Spring</td>\n",
       "      <td>2.7</td>\n",
       "      <td>...</td>\n",
       "      <td>31</td>\n",
       "      <td>PayPal</td>\n",
       "      <td>Annually</td>\n",
       "      <td>1519</td>\n",
       "      <td>1</td>\n",
       "      <td>Middle</td>\n",
       "      <td>1</td>\n",
       "      <td>Clothing</td>\n",
       "      <td>1</td>\n",
       "      <td>Low</td>\n",
       "    </tr>\n",
       "  </tbody>\n",
       "</table>\n",
       "<p>5 rows × 25 columns</p>\n",
       "</div>"
      ],
      "text/plain": [
       "   Age Gender Item Purchased  Category  Purchase Amount (USD)       Location  \\\n",
       "0   55   Male         Blouse  Clothing                     53       Kentucky   \n",
       "1   19   Male        Sweater  Clothing                     64          Maine   \n",
       "2   50   Male          Jeans  Clothing                     73  Massachusetts   \n",
       "3   21   Male        Sandals  Footwear                     90   Rhode Island   \n",
       "4   45   Male         Blouse  Clothing                     49         Oregon   \n",
       "\n",
       "  Size      Color  Season  Review Rating  ... Previous Purchases  \\\n",
       "0    L       Gray  Winter            3.1  ...                 14   \n",
       "1    L     Maroon  Winter            3.1  ...                  2   \n",
       "2    S     Maroon  Spring            3.1  ...                 23   \n",
       "3    M     Maroon  Spring            3.5  ...                 49   \n",
       "4    M  Turquoise  Spring            2.7  ...                 31   \n",
       "\n",
       "  Preferred Payment Method Frequency of Purchases   CLV  \\\n",
       "0                    Venmo            Fortnightly   742   \n",
       "1                     Cash            Fortnightly   128   \n",
       "2              Credit Card                 Weekly  1679   \n",
       "3                   PayPal                 Weekly  4410   \n",
       "4                   PayPal               Annually  1519   \n",
       "\n",
       "  Purchase_Frequency_Score  Age_Group Discount_Sensitivity Dominant_Category  \\\n",
       "0                        6     Senior                    1          Clothing   \n",
       "1                        6      Young                    1          Clothing   \n",
       "2                        7     Middle                    1          Clothing   \n",
       "3                        7      Young                    1          Footwear   \n",
       "4                        1     Middle                    1          Clothing   \n",
       "\n",
       "   Winter_Spring_Buyer  Review_Rating_Category  \n",
       "0                    1                  Medium  \n",
       "1                    1                  Medium  \n",
       "2                    1                  Medium  \n",
       "3                    1                  Medium  \n",
       "4                    1                     Low  \n",
       "\n",
       "[5 rows x 25 columns]"
      ]
     },
     "execution_count": 2,
     "metadata": {},
     "output_type": "execute_result"
    }
   ],
   "source": [
    "df = pd.read_csv('shopping_trends_engineered.csv')\n",
    "df.head()"
   ]
  },
  {
   "cell_type": "markdown",
   "id": "ef284a58",
   "metadata": {},
   "source": [
    "## Step 3: Identify Feature Types\n",
    "\n",
    "Separate columns into numerical and categorical for preprocessing."
   ]
  },
  {
   "cell_type": "code",
   "execution_count": 3,
   "id": "16896334",
   "metadata": {},
   "outputs": [],
   "source": [
    "numerical_cols = ['Age', 'Purchase Amount (USD)', 'Review Rating', 'Previous Purchases', \n",
    "                  'CLV', 'Purchase_Frequency_Score', 'Discount_Sensitivity', 'Winter_Spring_Buyer']\n",
    "categorical_cols = ['Gender', 'Item Purchased', 'Category', 'Location', 'Size', 'Color', \n",
    "                    'Season', 'Subscription Status', 'Payment Method', 'Shipping Type', \n",
    "                    'Discount Applied', 'Promo Code Used', 'Preferred Payment Method', \n",
    "                    'Frequency of Purchases', 'Age_Group', 'Dominant_Category', 'Review_Rating_Category']"
   ]
  },
  {
   "cell_type": "markdown",
   "id": "80f933f8",
   "metadata": {},
   "source": [
    "## Step 4: Preprocessing Pipeline\n",
    "\n",
    "Scale numerical features and one-hot encode categorical features using scikit-learn's `ColumnTransformer`."
   ]
  },
  {
   "cell_type": "code",
   "execution_count": 4,
   "id": "ac161461",
   "metadata": {},
   "outputs": [],
   "source": [
    "preprocessor = ColumnTransformer(\n",
    "    transformers=[\n",
    "        ('num', StandardScaler(), numerical_cols),\n",
    "        ('cat', OneHotEncoder(drop='first', sparse_output=False, handle_unknown='ignore'), categorical_cols)\n",
    "    ])"
   ]
  },
  {
   "cell_type": "markdown",
   "id": "97feb945",
   "metadata": {},
   "source": [
    "## Step 5: Apply Preprocessing\n",
    "\n",
    "Fit and transform the data using the pipeline."
   ]
  },
  {
   "cell_type": "code",
   "execution_count": 5,
   "id": "b537d992",
   "metadata": {},
   "outputs": [],
   "source": [
    "X = preprocessor.fit_transform(df)"
   ]
  },
  {
   "cell_type": "markdown",
   "id": "7a63365c",
   "metadata": {},
   "source": [
    "## Step 6: Retrieve Feature Names\n",
    "\n",
    "Get the new feature names after one-hot encoding for reference."
   ]
  },
  {
   "cell_type": "code",
   "execution_count": 6,
   "id": "c287ec1e",
   "metadata": {},
   "outputs": [],
   "source": [
    "cat_feature_names = preprocessor.named_transformers_['cat'].get_feature_names_out(categorical_cols)\n",
    "feature_names = numerical_cols + list(cat_feature_names)\n",
    "X = pd.DataFrame(X, columns=feature_names)"
   ]
  },
  {
   "cell_type": "markdown",
   "id": "c95896ab",
   "metadata": {},
   "source": [
    "## Step 7: Determine Optimal Number of Clusters\n",
    "\n",
    "Use the elbow method and silhouette scores to select the best number of clusters for K-Means."
   ]
  },
  {
   "cell_type": "code",
   "execution_count": 7,
   "id": "7c0ee5ed",
   "metadata": {},
   "outputs": [],
   "source": [
    "wcss = []\n",
    "silhouette_scores = []\n",
    "max_clusters = 10\n",
    "for k in range(2, max_clusters + 1):\n",
    "    kmeans = KMeans(n_clusters=k, random_state=42, n_init=10)\n",
    "    kmeans.fit(X)\n",
    "    wcss.append(kmeans.inertia_)\n",
    "    if k > 1:\n",
    "        silhouette_scores.append(silhouette_score(X, kmeans.labels_))"
   ]
  },
  {
   "cell_type": "markdown",
   "id": "82d3aa85",
   "metadata": {},
   "source": [
    "### Elbow Curve\n",
    "\n",
    "Plot the within-cluster sum of squares (WCSS) to find the 'elbow' point."
   ]
  },
  {
   "cell_type": "code",
   "execution_count": 8,
   "id": "acd31b9f",
   "metadata": {},
   "outputs": [
    {
     "data": {
      "image/png": "[encoded data removed]",
      "text/plain": [
       "<Figure size 800x500 with 1 Axes>"
      ]
     },
     "metadata": {},
     "output_type": "display_data"
    }
   ],
   "source": [
    "plt.figure(figsize=(8, 5))\n",
    "plt.plot(range(2, max_clusters + 1), wcss, marker='o')\n",
    "plt.title('Elbow Method for Optimal Number of Clusters')\n",
    "plt.xlabel('Number of Clusters')\n",
    "plt.ylabel('WCSS')\n",
    "plt.show()"
   ]
  },
  {
   "cell_type": "markdown",
   "id": "3ee22f2b",
   "metadata": {},
   "source": [
    "### Silhouette Scores\n",
    "\n",
    "Plot silhouette scores to evaluate cluster cohesion and separation."
   ]
  },
  {
   "cell_type": "code",
   "execution_count": 9,
   "id": "0a64654c",
   "metadata": {},
   "outputs": [
    {
     "data": {
      "image/png": "[encoded data removed]",
      "text/plain": [
       "<Figure size 800x500 with 1 Axes>"
      ]
     },
     "metadata": {},
     "output_type": "display_data"
    }
   ],
   "source": [
    "plt.figure(figsize=(8, 5))\n",
    "plt.plot(range(2, max_clusters + 1), silhouette_scores, marker='o')\n",
    "plt.title('Silhouette Scores for Different Numbers of Clusters')\n",
    "plt.xlabel('Number of Clusters')\n",
    "plt.ylabel('Silhouette Score')\n",
    "plt.show()"
   ]
  },
  {
   "cell_type": "markdown",
   "id": "df911d17",
   "metadata": {},
   "source": [
    "## Step 8: Train K-Means Clustering Model\n",
    "\n",
    "Fit K-Means with the optimal number of clusters (e.g., 4 based on elbow/silhouette results)."
   ]
  },
  {
   "cell_type": "code",
   "execution_count": 10,
   "id": "339d8f5c",
   "metadata": {},
   "outputs": [],
   "source": [
    "optimal_clusters = 4  # Adjust based on elbow plot or silhouette score\n",
    "kmeans = KMeans(n_clusters=optimal_clusters, random_state=42, n_init=10)\n",
    "df['Cluster'] = kmeans.fit_predict(X)"
   ]
  },
  {
   "cell_type": "markdown",
   "id": "51bc23b8",
   "metadata": {},
   "source": [
    "## Step 9: Evaluate Cluster Characteristics\n",
    "\n",
    "Analyze cluster means for numerical features and distributions for key categorical features."
   ]
  },
  {
   "cell_type": "code",
   "execution_count": 11,
   "id": "e18070d0",
   "metadata": {},
   "outputs": [
    {
     "name": "stdout",
     "output_type": "stream",
     "text": [
      "Cluster Summary (Numerical Features):\n",
      "                Age  Purchase Amount (USD)  Review Rating  Previous Purchases  \\\n",
      "Cluster                                                                        \n",
      "0        43.411379              54.602845       3.757330           21.935449   \n",
      "1        43.893473              53.552138       3.718830           21.809452   \n",
      "2        45.157895              82.319737       3.842500           41.025000   \n",
      "3        44.075028              55.124300       3.710078           20.796193   \n",
      "\n",
      "                 CLV  Purchase_Frequency_Score  Discount_Sensitivity  \\\n",
      "Cluster                                                                \n",
      "0        1116.018600                  4.012035              0.000000   \n",
      "1        1068.137284                  3.979745              1.000000   \n",
      "2        3340.831579                  3.918421              0.452632   \n",
      "3        1049.070549                  3.888018              0.000000   \n",
      "\n",
      "         Winter_Spring_Buyer  \n",
      "Cluster                       \n",
      "0                   1.000000  \n",
      "1                   0.512378  \n",
      "2                   0.490789  \n",
      "3                   0.000000  \n"
     ]
    }
   ],
   "source": [
    "cluster_summary = df.groupby('Cluster')[numerical_cols].mean()\n",
    "print(\"Cluster Summary (Numerical Features):\\n\", cluster_summary)"
   ]
  },
  {
   "cell_type": "code",
   "execution_count": 12,
   "id": "c26bad17",
   "metadata": {},
   "outputs": [
    {
     "name": "stdout",
     "output_type": "stream",
     "text": [
      "\n",
      "Cluster Distribution for Gender:\n",
      " Cluster  Gender\n",
      "0        Female    0.561269\n",
      "         Male      0.438731\n",
      "1        Male      1.000000\n",
      "2        Male      0.706579\n",
      "         Female    0.293421\n",
      "3        Female    0.573348\n",
      "         Male      0.426652\n",
      "Name: proportion, dtype: float64\n",
      "\n",
      "Cluster Distribution for Category:\n",
      " Cluster  Category   \n",
      "0        Clothing       0.446389\n",
      "         Accessories    0.307440\n",
      "         Footwear       0.166302\n",
      "         Outerwear      0.079869\n",
      "1        Clothing       0.432858\n",
      "         Accessories    0.324081\n",
      "         Footwear       0.152288\n",
      "         Outerwear      0.090773\n",
      "2        Clothing       0.452632\n",
      "         Accessories    0.315789\n",
      "         Footwear       0.159211\n",
      "         Outerwear      0.072368\n",
      "3        Clothing       0.456887\n",
      "         Accessories    0.321389\n",
      "         Footwear       0.137738\n",
      "         Outerwear      0.083987\n",
      "Name: proportion, dtype: float64\n",
      "\n",
      "Cluster Distribution for Age_Group:\n",
      " Cluster  Age_Group\n",
      "0        Middle       0.385120\n",
      "         Senior       0.357768\n",
      "         Young        0.257112\n",
      "1        Senior       0.377344\n",
      "         Middle       0.374344\n",
      "         Young        0.248312\n",
      "2        Senior       0.425000\n",
      "         Middle       0.334211\n",
      "         Young        0.240789\n",
      "3        Middle       0.414334\n",
      "         Senior       0.361702\n",
      "         Young        0.223964\n",
      "Name: proportion, dtype: float64\n",
      "\n",
      "Cluster Distribution for Subscription Status:\n",
      " Cluster  Subscription Status\n",
      "0        No                     1.000000\n",
      "1        Yes                    0.636159\n",
      "         No                     0.363841\n",
      "2        No                     0.730263\n",
      "         Yes                    0.269737\n",
      "3        No                     1.000000\n",
      "Name: proportion, dtype: float64\n"
     ]
    }
   ],
   "source": [
    "for col in ['Gender', 'Category', 'Age_Group', 'Subscription Status']:\n",
    "    print(f\"\\nCluster Distribution for {col}:\\n\", df.groupby('Cluster')[col].value_counts(normalize=True))"
   ]
  },
  {
   "cell_type": "markdown",
   "id": "4a443e29",
   "metadata": {},
   "source": [
    "## Step 10: Visualize Clusters with PCA\n",
    "\n",
    "Reduce dimensionality to 2D using PCA and plot clusters for visual inspection."
   ]
  },
  {
   "cell_type": "code",
   "execution_count": 13,
   "id": "8b7a5a6a",
   "metadata": {},
   "outputs": [],
   "source": [
    "from sklearn.decomposition import PCA\n",
    "pca = PCA(n_components=2)\n",
    "X_pca = pca.fit_transform(X)\n",
    "df_pca = pd.DataFrame(X_pca, columns=['PCA1', 'PCA2'])\n",
    "df_pca['Cluster'] = df['Cluster']"
   ]
  },
  {
   "cell_type": "code",
   "execution_count": 14,
   "id": "0e643082",
   "metadata": {},
   "outputs": [
    {
     "data": {
      "application/vnd.plotly.v1+json": {
       "config": {
        "plotlyServerURL": "https://plot.ly"
       },
       "data": [
        {
         "hovertemplate": "Principal Component 1=%{x}<br>Principal Component 2=%{y}<br>Cluster=%{marker.color}<extra></extra>",
         "legendgroup": "",
         "marker": {
          "color": {
           "bdata": "AQAAAAEAAAABAAAAAgAAAAEAAAABAAAAAgAAAAEAAAABAAAAAQAAAAEAAAABAAAAAgAAAAEAAAABAAAAAQAAAAEAAAABAAAAAQAAAAIAAAABAAAAAQAAAAEAAAACAAAAAQAAAAEAAAABAAAAAQAAAAIAAAABAAAAAQAAAAIAAAACAAAAAQAAAAIAAAABAAAAAgAAAAEAAAABAAAAAQAAAAEAAAABAAAAAQAAAAEAAAABAAAAAQAAAAEAAAABAAAAAQAAAAEAAAABAAAAAQAAAAEAAAABAAAAAgAAAAEAAAACAAAAAQAAAAEAAAABAAAAAQAAAAEAAAABAAAAAgAAAAEAAAABAAAAAQAAAAEAAAABAAAAAQAAAAEAAAABAAAAAQAAAAIAAAABAAAAAQAAAAEAAAABAAAAAgAAAAIAAAABAAAAAgAAAAEAAAABAAAAAQAAAAEAAAABAAAAAQAAAAEAAAABAAAAAQAAAAEAAAABAAAAAgAAAAEAAAACAAAAAgAAAAIAAAABAAAAAQAAAAIAAAACAAAAAQAAAAEAAAABAAAAAQAAAAEAAAACAAAAAgAAAAIAAAABAAAAAQAAAAEAAAABAAAAAQAAAAIAAAABAAAAAQAAAAEAAAACAAAAAgAAAAEAAAABAAAAAgAAAAIAAAABAAAAAQAAAAEAAAABAAAAAgAAAAEAAAABAAAAAQAAAAEAAAACAAAAAQAAAAEAAAABAAAAAQAAAAIAAAABAAAAAQAAAAEAAAABAAAAAQAAAAIAAAABAAAAAQAAAAIAAAABAAAAAQAAAAEAAAACAAAAAQAAAAEAAAABAAAAAQAAAAEAAAACAAAAAQAAAAEAAAABAAAAAQAAAAEAAAABAAAAAQAAAAEAAAABAAAAAQAAAAEAAAABAAAAAQAAAAIAAAABAAAAAQAAAAEAAAABAAAAAQAAAAEAAAABAAAAAQAAAAEAAAABAAAAAQAAAAEAAAABAAAAAQAAAAEAAAABAAAAAQAAAAIAAAABAAAAAQAAAAIAAAABAAAAAQAAAAIAAAACAAAAAQAAAAEAAAABAAAAAQAAAAEAAAABAAAAAgAAAAEAAAABAAAAAQAAAAEAAAACAAAAAQAAAAIAAAABAAAAAQAAAAEAAAABAAAAAQAAAAEAAAABAAAAAQAAAAIAAAABAAAAAQAAAAEAAAABAAAAAQAAAAEAAAABAAAAAQAAAAEAAAACAAAAAQAAAAEAAAABAAAAAQAAAAIAAAACAAAAAgAAAAEAAAABAAAAAQAAAAIAAAACAAAAAQAAAAEAAAABAAAAAQAAAAEAAAACAAAAAQAAAAEAAAABAAAAAQAAAAEAAAABAAAAAQAAAAEAAAABAAAAAQAAAAEAAAABAAAAAQAAAAEAAAABAAAAAQAAAAEAAAABAAAAAQAAAAEAAAABAAAAAQAAAAIAAAABAAAAAQAAAAEAAAABAAAAAQAAAAEAAAABAAAAAQAAAAEAAAABAAAAAQAAAAEAAAABAAAAAQAAAAEAAAABAAAAAQAAAAEAAAABAAAAAQAAAAIAAAABAAAAAQAAAAEAAAABAAAAAQAAAAEAAAABAAAAAQAAAAEAAAABAAAAAgAAAAIAAAABAAAAAQAAAAEAAAABAAAAAQAAAAIAAAABAAAAAQAAAAIAAAABAAAAAQAAAAEAAAACAAAAAQAAAAEAAAABAAAAAQAAAAIAAAABAAAAAgAAAAIAAAABAAAAAQAAAAEAAAABAAAAAQAAAAIAAAABAAAAAQAAAAEAAAACAAAAAQAAAAEAAAABAAAAAQAAAAEAAAABAAAAAQAAAAEAAAACAAAAAQAAAAEAAAABAAAAAQAAAAEAAAACAAAAAQAAAAEAAAABAAAAAgAAAAEAAAABAAAAAQAAAAEAAAABAAAAAQAAAAIAAAABAAAAAgAAAAEAAAACAAAAAQAAAAEAAAABAAAAAQAAAAEAAAACAAAAAQAAAAEAAAACAAAAAQAAAAEAAAABAAAAAQAAAAEAAAABAAAAAQAAAAIAAAABAAAAAQAAAAEAAAABAAAAAgAAAAEAAAABAAAAAQAAAAEAAAACAAAAAQAAAAEAAAABAAAAAQAAAAEAAAABAAAAAQAAAAEAAAABAAAAAQAAAAEAAAABAAAAAQAAAAEAAAABAAAAAQAAAAEAAAABAAAAAQAAAAEAAAACAAAAAgAAAAEAAAABAAAAAgAAAAEAAAABAAAAAQAAAAEAAAABAAAAAQAAAAEAAAABAAAAAQAAAAEAAAABAAAAAQAAAAEAAAABAAAAAQAAAAEAAAABAAAAAQAAAAEAAAABAAAAAQAAAAEAAAACAAAAAgAAAAEAAAABAAAAAQAAAAEAAAABAAAAAQAAAAEAAAABAAAAAQAAAAEAAAABAAAAAQAAAAEAAAACAAAAAgAAAAIAAAACAAAAAQAAAAEAAAABAAAAAgAAAAEAAAABAAAAAQAAAAEAAAABAAAAAQAAAAEAAAABAAAAAgAAAAEAAAABAAAAAQAAAAEAAAABAAAAAgAAAAEAAAACAAAAAgAAAAEAAAABAAAAAQAAAAEAAAABAAAAAQAAAAEAAAABAAAAAgAAAAEAAAABAAAAAQAAAAEAAAACAAAAAQAAAAEAAAABAAAAAQAAAAIAAAABAAAAAQAAAAEAAAABAAAAAQAAAAEAAAABAAAAAQAAAAEAAAABAAAAAQAAAAEAAAABAAAAAgAAAAIAAAABAAAAAQAAAAEAAAABAAAAAQAAAAEAAAABAAAAAgAAAAEAAAABAAAAAQAAAAEAAAABAAAAAgAAAAEAAAABAAAAAQAAAAIAAAABAAAAAQAAAAEAAAABAAAAAQAAAAEAAAABAAAAAQAAAAEAAAACAAAAAQAAAAEAAAABAAAAAgAAAAEAAAACAAAAAQAAAAEAAAABAAAAAQAAAAEAAAABAAAAAQAAAAEAAAABAAAAAgAAAAEAAAABAAAAAQAAAAEAAAABAAAAAQAAAAEAAAABAAAAAQAAAAIAAAABAAAAAQAAAAIAAAACAAAAAQAAAAEAAAACAAAAAQAAAAEAAAABAAAAAQAAAAEAAAABAAAAAQAAAAIAAAABAAAAAQAAAAEAAAACAAAAAQAAAAIAAAABAAAAAQAAAAEAAAABAAAAAQAAAAIAAAABAAAAAQAAAAEAAAABAAAAAQAAAAEAAAABAAAAAQAAAAEAAAABAAAAAgAAAAEAAAABAAAAAgAAAAEAAAABAAAAAQAAAAEAAAABAAAAAQAAAAIAAAABAAAAAQAAAAEAAAABAAAAAQAAAAIAAAACAAAAAQAAAAEAAAABAAAAAQAAAAIAAAABAAAAAgAAAAEAAAABAAAAAQAAAAIAAAABAAAAAQAAAAEAAAABAAAAAQAAAAIAAAABAAAAAQAAAAEAAAACAAAAAQAAAAEAAAABAAAAAQAAAAIAAAABAAAAAQAAAAEAAAACAAAAAQAAAAEAAAABAAAAAQAAAAEAAAABAAAAAgAAAAIAAAACAAAAAQAAAAIAAAACAAAAAQAAAAEAAAACAAAAAgAAAAEAAAABAAAAAQAAAAEAAAABAAAAAQAAAAEAAAACAAAAAQAAAAIAAAABAAAAAQAAAAEAAAABAAAAAgAAAAEAAAABAAAAAQAAAAIAAAACAAAAAgAAAAEAAAACAAAAAQAAAAEAAAABAAAAAQAAAAIAAAABAAAAAQAAAAEAAAABAAAAAQAAAAEAAAABAAAAAgAAAAEAAAABAAAAAQAAAAEAAAABAAAAAQAAAAIAAAACAAAAAgAAAAEAAAABAAAAAQAAAAEAAAABAAAAAQAAAAEAAAABAAAAAQAAAAIAAAABAAAAAQAAAAIAAAABAAAAAgAAAAEAAAABAAAAAQAAAAEAAAACAAAAAQAAAAEAAAABAAAAAQAAAAEAAAABAAAAAQAAAAEAAAACAAAAAgAAAAEAAAABAAAAAQAAAAEAAAABAAAAAQAAAAEAAAABAAAAAQAAAAEAAAABAAAAAgAAAAEAAAACAAAAAQAAAAEAAAACAAAAAQAAAAEAAAABAAAAAQAAAAEAAAABAAAAAgAAAAEAAAABAAAAAQAAAAEAAAABAAAAAQAAAAEAAAABAAAAAQAAAAEAAAACAAAAAQAAAAEAAAABAAAAAgAAAAIAAAABAAAAAQAAAAEAAAABAAAAAQAAAAEAAAABAAAAAQAAAAEAAAABAAAAAQAAAAIAAAACAAAAAQAAAAEAAAABAAAAAQAAAAEAAAABAAAAAQAAAAEAAAACAAAAAQAAAAIAAAACAAAAAgAAAAEAAAABAAAAAQAAAAEAAAABAAAAAQAAAAEAAAACAAAAAQAAAAEAAAABAAAAAQAAAAEAAAACAAAAAQAAAAIAAAABAAAAAQAAAAEAAAABAAAAAgAAAAEAAAABAAAAAQAAAAEAAAABAAAAAQAAAAEAAAABAAAAAQAAAAEAAAABAAAAAQAAAAEAAAABAAAAAgAAAAEAAAABAAAAAQAAAAEAAAABAAAAAQAAAAEAAAABAAAAAQAAAAEAAAACAAAAAQAAAAEAAAABAAAAAgAAAAEAAAABAAAAAQAAAAEAAAABAAAAAQAAAAEAAAABAAAAAQAAAAEAAAABAAAAAQAAAAEAAAABAAAAAQAAAAIAAAACAAAAAQAAAAEAAAABAAAAAQAAAAEAAAACAAAAAgAAAAIAAAABAAAAAgAAAAIAAAABAAAAAQAAAAIAAAABAAAAAQAAAAEAAAABAAAAAgAAAAEAAAABAAAAAgAAAAEAAAABAAAAAQAAAAIAAAABAAAAAQAAAAEAAAABAAAAAQAAAAEAAAABAAAAAQAAAAEAAAABAAAAAQAAAAEAAAABAAAAAQAAAAEAAAACAAAAAQAAAAEAAAABAAAAAgAAAAEAAAABAAAAAQAAAAEAAAACAAAAAQAAAAEAAAABAAAAAgAAAAEAAAABAAAAAQAAAAEAAAABAAAAAQAAAAEAAAABAAAAAgAAAAEAAAACAAAAAQAAAAEAAAABAAAAAQAAAAEAAAABAAAAAQAAAAEAAAABAAAAAQAAAAEAAAACAAAAAQAAAAEAAAABAAAAAQAAAAIAAAABAAAAAQAAAAEAAAABAAAAAQAAAAEAAAACAAAAAQAAAAEAAAABAAAAAQAAAAEAAAABAAAAAQAAAAIAAAABAAAAAQAAAAEAAAACAAAAAQAAAAEAAAABAAAAAQAAAAEAAAACAAAAAQAAAAIAAAABAAAAAQAAAAIAAAACAAAAAQAAAAEAAAABAAAAAgAAAAEAAAACAAAAAQAAAAEAAAABAAAAAQAAAAEAAAACAAAAAQAAAAIAAAABAAAAAQAAAAEAAAABAAAAAQAAAAEAAAABAAAAAgAAAAEAAAABAAAAAQAAAAIAAAABAAAAAgAAAAEAAAABAAAAAQAAAAEAAAABAAAAAgAAAAEAAAABAAAAAQAAAAIAAAABAAAAAQAAAAEAAAABAAAAAgAAAAEAAAABAAAAAQAAAAEAAAABAAAAAQAAAAIAAAABAAAAAQAAAAEAAAABAAAAAQAAAAEAAAABAAAAAQAAAAEAAAABAAAAAQAAAAIAAAABAAAAAgAAAAEAAAABAAAAAQAAAAEAAAABAAAAAQAAAAEAAAABAAAAAQAAAAEAAAABAAAAAgAAAAIAAAACAAAAAgAAAAIAAAACAAAAAgAAAAEAAAACAAAAAQAAAAIAAAABAAAAAQAAAAEAAAACAAAAAgAAAAEAAAABAAAAAQAAAAEAAAABAAAAAQAAAAEAAAABAAAAAQAAAAEAAAABAAAAAQAAAAEAAAABAAAAAgAAAAIAAAABAAAAAgAAAAEAAAABAAAAAQAAAAEAAAABAAAAAQAAAAEAAAABAAAAAQAAAAEAAAABAAAAAQAAAAEAAAABAAAAAgAAAAEAAAABAAAAAQAAAAIAAAABAAAAAQAAAAEAAAABAAAAAQAAAAIAAAABAAAAAQAAAAIAAAABAAAAAQAAAAIAAAABAAAAAQAAAAIAAAACAAAAAQAAAAEAAAABAAAAAQAAAAEAAAABAAAAAQAAAAEAAAACAAAAAQAAAAEAAAABAAAAAQAAAAEAAAABAAAAAQAAAAEAAAACAAAAAgAAAAEAAAABAAAAAgAAAAIAAAABAAAAAQAAAAEAAAABAAAAAgAAAAEAAAABAAAAAQAAAAIAAAABAAAAAQAAAAEAAAACAAAAAgAAAAEAAAABAAAAAgAAAAEAAAABAAAAAQAAAAEAAAACAAAAAQAAAAEAAAABAAAAAQAAAAEAAAACAAAAAQAAAAIAAAABAAAAAgAAAAEAAAABAAAAAQAAAAIAAAABAAAAAgAAAAEAAAABAAAAAQAAAAIAAAABAAAAAQAAAAEAAAACAAAAAQAAAAIAAAABAAAAAQAAAAEAAAABAAAAAQAAAAEAAAABAAAAAQAAAAEAAAABAAAAAgAAAAEAAAACAAAAAQAAAAEAAAABAAAAAQAAAAEAAAABAAAAAQAAAAEAAAABAAAAAgAAAAIAAAABAAAAAgAAAAEAAAABAAAAAgAAAAIAAAABAAAAAQAAAAIAAAABAAAAAQAAAAEAAAABAAAAAQAAAAEAAAABAAAAAQAAAAIAAAABAAAAAgAAAAEAAAABAAAAAQAAAAIAAAABAAAAAQAAAAIAAAACAAAAAgAAAAEAAAACAAAAAQAAAAEAAAABAAAAAQAAAAIAAAABAAAAAgAAAAEAAAACAAAAAQAAAAEAAAACAAAAAQAAAAIAAAABAAAAAgAAAAEAAAACAAAAAQAAAAEAAAABAAAAAgAAAAIAAAABAAAAAQAAAAIAAAABAAAAAQAAAAEAAAACAAAAAQAAAAEAAAACAAAAAQAAAAIAAAABAAAAAQAAAAIAAAABAAAAAQAAAAEAAAABAAAAAQAAAAEAAAABAAAAAQAAAAEAAAABAAAAAQAAAAEAAAABAAAAAgAAAAEAAAABAAAAAQAAAAEAAAABAAAAAQAAAAIAAAABAAAAAQAAAAEAAAABAAAAAQAAAAEAAAACAAAAAgAAAAEAAAABAAAAAQAAAAEAAAABAAAAAQAAAAIAAAABAAAAAQAAAAEAAAABAAAAAQAAAAEAAAABAAAAAQAAAAEAAAABAAAAAgAAAAEAAAABAAAAAQAAAAEAAAACAAAAAQAAAAEAAAACAAAAAQAAAAEAAAABAAAAAQAAAAEAAAABAAAAAQAAAAIAAAABAAAAAQAAAAEAAAABAAAAAQAAAAIAAAACAAAAAgAAAAIAAAABAAAAAQAAAAEAAAABAAAAAQAAAAEAAAABAAAAAQAAAAIAAAABAAAAAQAAAAEAAAABAAAAAQAAAAEAAAABAAAAAQAAAAEAAAABAAAAAQAAAAEAAAABAAAAAQAAAAEAAAABAAAAAQAAAAIAAAABAAAAAQAAAAEAAAABAAAAAQAAAAIAAAABAAAAAQAAAAEAAAABAAAAAQAAAAEAAAACAAAAAQAAAAEAAAABAAAAAgAAAAEAAAABAAAAAQAAAAIAAAACAAAAAQAAAAEAAAABAAAAAQAAAAEAAAABAAAAAgAAAAEAAAABAAAAAgAAAAEAAAACAAAAAQAAAAIAAAABAAAAAQAAAAEAAAABAAAAAQAAAAEAAAACAAAAAQAAAAEAAAABAAAAAQAAAAEAAAABAAAAAQAAAAEAAAABAAAAAQAAAAIAAAABAAAAAQAAAAIAAAACAAAAAQAAAAEAAAACAAAAAgAAAAEAAAABAAAAAQAAAAIAAAABAAAAAQAAAAEAAAACAAAAAQAAAAIAAAABAAAAAQAAAAEAAAABAAAAAQAAAAEAAAABAAAAAQAAAAEAAAABAAAAAgAAAAEAAAABAAAAAQAAAAEAAAABAAAAAQAAAAEAAAABAAAAAQAAAAEAAAABAAAAAQAAAAEAAAABAAAAAQAAAAEAAAABAAAAAQAAAAEAAAABAAAAAQAAAAEAAAABAAAAAQAAAAEAAAABAAAAAgAAAAEAAAACAAAAAQAAAAEAAAABAAAAAgAAAAEAAAABAAAAAQAAAAIAAAACAAAAAgAAAAEAAAACAAAAAQAAAAEAAAABAAAAAgAAAAIAAAACAAAAAQAAAAEAAAABAAAAAQAAAAEAAAABAAAAAQAAAAIAAAABAAAAAQAAAAEAAAACAAAAAQAAAAEAAAABAAAAAQAAAAEAAAABAAAAAQAAAAEAAAABAAAAAQAAAAEAAAABAAAAAQAAAAEAAAABAAAAAQAAAAEAAAABAAAAAQAAAAEAAAABAAAAAQAAAAEAAAACAAAAAQAAAAEAAAABAAAAAQAAAAEAAAABAAAAAQAAAAEAAAABAAAAAQAAAAIAAAABAAAAAQAAAAEAAAABAAAAAgAAAAEAAAABAAAAAgAAAAEAAAABAAAAAgAAAAEAAAACAAAAAQAAAAIAAAABAAAAAgAAAAEAAAABAAAAAQAAAAEAAAABAAAAAQAAAAEAAAABAAAAAQAAAAEAAAACAAAAAQAAAAEAAAACAAAAAQAAAAEAAAABAAAAAQAAAAEAAAABAAAAAQAAAAIAAAABAAAAAgAAAAIAAAACAAAAAQAAAAEAAAABAAAAAgAAAAEAAAABAAAAAQAAAAEAAAABAAAAAQAAAAEAAAABAAAAAQAAAAIAAAABAAAAAQAAAAEAAAABAAAAAQAAAAIAAAABAAAAAQAAAAEAAAABAAAAAQAAAAEAAAABAAAAAQAAAAEAAAABAAAAAQAAAAIAAAABAAAAAgAAAAEAAAABAAAAAQAAAAEAAAACAAAAAQAAAAEAAAABAAAAAQAAAAEAAAABAAAAAQAAAAIAAAABAAAAAQAAAAEAAAABAAAAAQAAAAEAAAACAAAAAQAAAAEAAAABAAAAAwAAAAMAAAADAAAAAwAAAAAAAAACAAAAAAAAAAIAAAAAAAAAAwAAAAAAAAAAAAAAAAAAAAMAAAADAAAAAAAAAAIAAAADAAAAAwAAAAAAAAACAAAAAAAAAAAAAAACAAAAAAAAAAIAAAAAAAAAAwAAAAMAAAAAAAAAAwAAAAAAAAAAAAAAAwAAAAAAAAADAAAAAAAAAAMAAAAAAAAAAAAAAAMAAAAAAAAAAAAAAAIAAAAAAAAAAwAAAAAAAAAAAAAAAAAAAAMAAAAAAAAAAwAAAAAAAAADAAAAAwAAAAAAAAADAAAAAAAAAAAAAAACAAAAAgAAAAAAAAAAAAAAAwAAAAAAAAAAAAAAAAAAAAAAAAAAAAAAAwAAAAAAAAACAAAAAwAAAAIAAAAAAAAAAAAAAAMAAAADAAAAAAAAAAMAAAACAAAAAAAAAAAAAAAAAAAAAwAAAAMAAAACAAAAAwAAAAIAAAAAAAAAAgAAAAMAAAACAAAAAwAAAAMAAAADAAAAAwAAAAAAAAAAAAAAAwAAAAAAAAAAAAAAAAAAAAIAAAADAAAAAgAAAAAAAAADAAAAAwAAAAAAAAADAAAAAwAAAAAAAAADAAAAAgAAAAMAAAACAAAAAAAAAAMAAAAAAAAAAAAAAAAAAAADAAAAAAAAAAIAAAACAAAAAgAAAAAAAAACAAAAAwAAAAMAAAAAAAAAAwAAAAMAAAADAAAAAwAAAAAAAAADAAAAAgAAAAMAAAADAAAAAwAAAAIAAAACAAAAAAAAAAMAAAADAAAAAAAAAAIAAAACAAAAAAAAAAIAAAACAAAAAAAAAAMAAAADAAAAAAAAAAMAAAACAAAAAwAAAAAAAAADAAAAAAAAAAIAAAAAAAAAAwAAAAMAAAAAAAAAAgAAAAMAAAACAAAAAAAAAAAAAAACAAAAAwAAAAAAAAAAAAAAAgAAAAAAAAADAAAAAgAAAAAAAAADAAAAAwAAAAMAAAAAAAAAAAAAAAMAAAADAAAAAAAAAAMAAAAAAAAAAAAAAAIAAAADAAAAAwAAAAMAAAADAAAAAAAAAAMAAAADAAAAAwAAAAAAAAADAAAAAAAAAAAAAAAAAAAAAwAAAAAAAAACAAAAAwAAAAIAAAAAAAAAAAAAAAIAAAADAAAAAwAAAAIAAAADAAAAAwAAAAAAAAACAAAAAAAAAAIAAAACAAAAAAAAAAMAAAACAAAAAwAAAAAAAAACAAAAAAAAAAAAAAADAAAAAgAAAAAAAAAAAAAAAgAAAAIAAAAAAAAAAAAAAAMAAAADAAAAAgAAAAMAAAADAAAAAwAAAAIAAAAAAAAAAAAAAAMAAAADAAAAAwAAAAAAAAAAAAAAAAAAAAMAAAAAAAAAAgAAAAIAAAADAAAAAAAAAAAAAAACAAAAAgAAAAMAAAADAAAAAAAAAAAAAAADAAAAAwAAAAAAAAAAAAAAAwAAAAMAAAACAAAAAAAAAAAAAAAAAAAAAAAAAAAAAAACAAAAAwAAAAIAAAACAAAAAwAAAAAAAAACAAAAAgAAAAAAAAADAAAAAAAAAAAAAAAAAAAAAAAAAAMAAAADAAAAAAAAAAMAAAAAAAAAAwAAAAAAAAACAAAAAAAAAAIAAAADAAAAAwAAAAMAAAAAAAAAAwAAAAMAAAAAAAAAAAAAAAAAAAADAAAAAgAAAAAAAAADAAAAAAAAAAMAAAADAAAAAwAAAAAAAAAAAAAAAAAAAAMAAAAAAAAAAwAAAAAAAAADAAAAAwAAAAAAAAACAAAAAwAAAAAAAAADAAAAAAAAAAMAAAADAAAAAAAAAAAAAAADAAAAAAAAAAAAAAAAAAAAAAAAAAAAAAADAAAAAwAAAAAAAAACAAAAAwAAAAAAAAADAAAAAAAAAAAAAAADAAAAAAAAAAIAAAACAAAAAwAAAAAAAAAAAAAAAAAAAAAAAAAAAAAAAwAAAAAAAAADAAAAAAAAAAIAAAAAAAAAAwAAAAMAAAAAAAAAAAAAAAAAAAAAAAAAAwAAAAAAAAAAAAAAAAAAAAIAAAADAAAAAwAAAAMAAAACAAAAAwAAAAAAAAACAAAAAwAAAAIAAAADAAAAAAAAAAIAAAAAAAAAAAAAAAMAAAADAAAAAwAAAAMAAAAAAAAAAwAAAAMAAAACAAAAAwAAAAMAAAACAAAAAwAAAAIAAAADAAAAAgAAAAAAAAAAAAAAAwAAAAMAAAAAAAAAAAAAAAMAAAADAAAAAAAAAAMAAAACAAAAAAAAAAAAAAAAAAAAAwAAAAIAAAAAAAAAAwAAAAIAAAAAAAAAAwAAAAIAAAAAAAAAAwAAAAAAAAAAAAAAAAAAAAMAAAADAAAAAwAAAAAAAAACAAAAAAAAAAMAAAAAAAAAAwAAAAIAAAAAAAAAAAAAAAMAAAADAAAAAwAAAAMAAAADAAAAAwAAAAAAAAAAAAAAAwAAAAAAAAADAAAAAgAAAAIAAAACAAAAAAAAAAIAAAAAAAAAAAAAAAMAAAADAAAAAAAAAAAAAAAAAAAAAwAAAAMAAAACAAAAAAAAAAMAAAACAAAAAgAAAAAAAAADAAAAAAAAAAMAAAADAAAAAgAAAAAAAAADAAAAAgAAAAAAAAAAAAAAAwAAAAMAAAADAAAAAwAAAAIAAAAAAAAAAAAAAAIAAAAAAAAAAgAAAAMAAAADAAAAAwAAAAIAAAAAAAAAAAAAAAAAAAAAAAAAAAAAAAAAAAACAAAAAAAAAAIAAAAAAAAAAAAAAAMAAAADAAAAAAAAAAIAAAACAAAAAwAAAAMAAAAAAAAAAwAAAAAAAAAAAAAAAwAAAAAAAAADAAAAAwAAAAMAAAADAAAAAgAAAAAAAAADAAAAAwAAAAIAAAAAAAAAAwAAAAAAAAADAAAAAgAAAAIAAAADAAAAAwAAAAAAAAAAAAAAAAAAAAIAAAADAAAAAgAAAAAAAAADAAAAAAAAAAMAAAAAAAAAAgAAAAAAAAADAAAAAAAAAAIAAAAAAAAAAwAAAAAAAAAAAAAAAwAAAAIAAAACAAAAAwAAAAAAAAAAAAAAAwAAAAMAAAADAAAAAAAAAAIAAAAAAAAAAwAAAAMAAAACAAAAAAAAAAMAAAAAAAAAAAAAAAAAAAACAAAAAwAAAAMAAAAAAAAAAAAAAAMAAAAAAAAAAgAAAAAAAAAAAAAAAAAAAAAAAAADAAAAAwAAAAMAAAAAAAAAAwAAAAMAAAADAAAAAAAAAAMAAAACAAAAAAAAAAMAAAACAAAAAgAAAAAAAAAAAAAAAAAAAAMAAAACAAAAAAAAAAIAAAADAAAAAAAAAAIAAAACAAAAAAAAAAMAAAAAAAAAAAAAAAIAAAAAAAAAAgAAAAAAAAADAAAAAAAAAAAAAAADAAAAAwAAAAAAAAACAAAAAAAAAAMAAAAAAAAAAAAAAAAAAAAAAAAAAAAAAAIAAAAAAAAAAgAAAAAAAAAAAAAAAwAAAAIAAAACAAAAAAAAAAMAAAAAAAAAAwAAAAMAAAAAAAAAAwAAAAMAAAAAAAAAAwAAAAMAAAADAAAAAwAAAAMAAAAAAAAAAgAAAAIAAAAAAAAAAwAAAAAAAAADAAAAAwAAAAMAAAADAAAAAAAAAAMAAAACAAAAAgAAAAIAAAADAAAAAAAAAAMAAAACAAAAAAAAAAIAAAAAAAAAAAAAAAMAAAAAAAAAAgAAAAAAAAAAAAAAAAAAAAAAAAADAAAAAAAAAAMAAAADAAAAAAAAAAMAAAADAAAAAgAAAAAAAAAAAAAAAwAAAAMAAAADAAAAAwAAAAAAAAAAAAAAAAAAAAAAAAACAAAAAwAAAAIAAAAAAAAAAwAAAAIAAAAAAAAAAAAAAAAAAAACAAAAAwAAAAAAAAADAAAAAAAAAAMAAAACAAAAAAAAAAMAAAACAAAAAAAAAAIAAAADAAAAAwAAAAMAAAADAAAAAgAAAAMAAAAAAAAAAAAAAAIAAAADAAAAAAAAAAMAAAADAAAAAAAAAAAAAAACAAAAAgAAAAMAAAACAAAAAAAAAAAAAAADAAAAAwAAAAAAAAAAAAAAAwAAAAIAAAADAAAAAgAAAAAAAAADAAAAAgAAAAAAAAADAAAAAwAAAAMAAAADAAAAAwAAAAIAAAAAAAAAAAAAAAAAAAAAAAAAAwAAAAMAAAADAAAAAAAAAAMAAAACAAAAAwAAAAAAAAAAAAAAAgAAAAAAAAAAAAAAAgAAAAMAAAAAAAAAAwAAAAIAAAADAAAAAwAAAAMAAAAAAAAAAAAAAAIAAAADAAAAAgAAAAIAAAADAAAAAgAAAAAAAAAAAAAAAAAAAAIAAAAAAAAAAAAAAAAAAAACAAAAAwAAAAAAAAAAAAAAAgAAAAMAAAADAAAAAwAAAAIAAAACAAAAAAAAAAMAAAACAAAAAgAAAAAAAAADAAAAAAAAAAAAAAAAAAAAAwAAAAMAAAAAAAAAAAAAAAIAAAACAAAAAAAAAAMAAAAAAAAAAwAAAAMAAAAAAAAAAAAAAAAAAAAAAAAAAAAAAAMAAAADAAAAAgAAAAIAAAADAAAAAwAAAAMAAAADAAAAAgAAAAAAAAADAAAAAwAAAAMAAAADAAAAAAAAAAAAAAAAAAAAAgAAAAAAAAADAAAAAwAAAAAAAAADAAAAAwAAAAAAAAAAAAAAAwAAAAIAAAADAAAAAwAAAAAAAAADAAAAAAAAAAAAAAAAAAAAAAAAAAAAAAAAAAAAAwAAAAMAAAAAAAAAAgAAAAAAAAAAAAAAAAAAAAMAAAADAAAAAwAAAAMAAAAAAAAAAwAAAAMAAAADAAAAAwAAAAIAAAADAAAAAwAAAAMAAAADAAAAAAAAAAAAAAADAAAAAAAAAAMAAAAAAAAAAwAAAAMAAAADAAAAAwAAAAIAAAADAAAAAgAAAAIAAAADAAAAAAAAAAMAAAAAAAAAAAAAAAIAAAACAAAAAAAAAAIAAAADAAAAAAAAAAMAAAAAAAAAAwAAAAAAAAADAAAAAgAAAAIAAAADAAAAAAAAAAAAAAAAAAAAAAAAAAIAAAADAAAAAwAAAAMAAAADAAAAAwAAAAAAAAAAAAAAAwAAAAMAAAACAAAAAwAAAAIAAAAAAAAAAAAAAAAAAAAAAAAAAgAAAAAAAAACAAAAAAAAAAAAAAAAAAAAAwAAAAMAAAAAAAAAAwAAAAMAAAADAAAAAwAAAAMAAAADAAAAAwAAAAAAAAADAAAAAwAAAAMAAAACAAAAAwAAAAIAAAADAAAAAgAAAAAAAAAAAAAAAwAAAAMAAAAAAAAAAwAAAAIAAAAAAAAAAwAAAAMAAAAAAAAAAAAAAAAAAAACAAAAAAAAAAMAAAADAAAAAAAAAAMAAAADAAAAAAAAAAAAAAADAAAAAAAAAAMAAAADAAAAAAAAAAAAAAACAAAAAAAAAAMAAAAAAAAAAAAAAAMAAAACAAAAAAAAAAMAAAADAAAAAAAAAAAAAAAAAAAAAAAAAAMAAAACAAAAAAAAAAMAAAAAAAAAAwAAAAMAAAAAAAAAAgAAAAAAAAAAAAAAAAAAAAMAAAAAAAAAAAAAAAAAAAADAAAAAAAAAAMAAAAAAAAAAgAAAAAAAAADAAAAAAAAAAMAAAAAAAAAAgAAAAMAAAAAAAAAAAAAAAIAAAACAAAAAgAAAAMAAAACAAAAAgAAAAMAAAAAAAAAAgAAAAMAAAAAAAAAAAAAAAAAAAAAAAAAAgAAAAAAAAACAAAAAwAAAAAAAAAAAAAAAwAAAAMAAAADAAAAAgAAAAMAAAADAAAAAwAAAAAAAAADAAAAAgAAAAIAAAAAAAAAAwAAAAMAAAADAAAAAAAAAAIAAAADAAAAAwAAAAMAAAADAAAAAAAAAAAAAAAAAAAAAAAAAAAAAAAAAAAAAAAAAAMAAAAAAAAAAAAAAAMAAAADAAAAAAAAAAMAAAAAAAAAAAAAAAMAAAAAAAAAAAAAAAAAAAAAAAAAAAAAAAMAAAAAAAAAAgAAAAAAAAACAAAAAgAAAAAAAAAAAAAAAgAAAAIAAAADAAAAAwAAAAMAAAADAAAAAAAAAAIAAAAAAAAAAAAAAAMAAAAAAAAAAwAAAAIAAAADAAAAAgAAAAIAAAAAAAAAAwAAAAMAAAACAAAAAgAAAAAAAAAAAAAAAwAAAAMAAAADAAAAAAAAAAAAAAACAAAAAwAAAAMAAAAAAAAAAAAAAAIAAAADAAAAAgAAAAIAAAADAAAAAAAAAAMAAAAAAAAAAgAAAAIAAAAAAAAAAAAAAAMAAAACAAAAAAAAAAIAAAACAAAAAwAAAAAAAAADAAAAAwAAAAMAAAADAAAAAgAAAAMAAAADAAAAAAAAAAMAAAAAAAAAAwAAAAMAAAAAAAAAAwAAAAMAAAAAAAAAAwAAAAMAAAAAAAAAAAAAAAAAAAAAAAAAAAAAAAMAAAADAAAAAAAAAAAAAAAAAAAAAwAAAAAAAAAAAAAAAAAAAAAAAAAAAAAAAwAAAAMAAAADAAAAAwAAAAAAAAAAAAAAAAAAAAAAAAAAAAAAAAAAAAAAAAAAAAAAAgAAAAAAAAACAAAAAwAAAAMAAAAAAAAAAAAAAAMAAAADAAAAAAAAAAAAAAACAAAAAAAAAAAAAAADAAAAAAAAAAAAAAAAAAAAAgAAAAAAAAADAAAAAAAAAAAAAAAAAAAAAwAAAAAAAAADAAAAAwAAAAAAAAAAAAAAAAAAAAMAAAAAAAAAAwAAAAAAAAADAAAAAAAAAAMAAAADAAAAAAAAAAIAAAACAAAAAAAAAAIAAAADAAAAAAAAAAMAAAAAAAAAAgAAAAIAAAADAAAAAgAAAAMAAAAAAAAAAwAAAAMAAAACAAAAAwAAAAMAAAADAAAAAwAAAAMAAAADAAAAAgAAAAMAAAADAAAAAwAAAAIAAAACAAAAAgAAAAAAAAACAAAAAwAAAAMAAAAAAAAAAwAAAAAAAAAAAAAAAwAAAAMAAAAAAAAAAAAAAAMAAAADAAAAAwAAAAAAAAAAAAAAAAAAAAIAAAAAAAAAAAAAAAMAAAAAAAAAAAAAAAMAAAADAAAAAwAAAAAAAAAAAAAAAwAAAAAAAAAAAAAAAAAAAAAAAAADAAAAAwAAAAMAAAAAAAAAAAAAAAMAAAADAAAAAwAAAAAAAAACAAAAAgAAAAMAAAADAAAAAgAAAAMAAAADAAAAAAAAAAMAAAADAAAAAAAAAAMAAAADAAAAAAAAAAAAAAAAAAAAAAAAAAMAAAADAAAAAAAAAAMAAAAAAAAAAAAAAAMAAAAAAAAAAAAAAAAAAAADAAAAAgAAAAMAAAAAAAAAAgAAAAAAAAAAAAAAAwAAAAMAAAAAAAAAAAAAAAAAAAACAAAAAwAAAAMAAAACAAAAAAAAAAIAAAADAAAAAwAAAAAAAAAAAAAAAAAAAAMAAAAAAAAAAgAAAAAAAAAAAAAAAAAAAAMAAAACAAAAAAAAAAMAAAAAAAAAAAAAAAAAAAADAAAAAAAAAAAAAAADAAAAAAAAAAAAAAADAAAAAwAAAAIAAAADAAAAAwAAAAMAAAADAAAAAAAAAAMAAAACAAAAAwAAAAAAAAADAAAAAwAAAAAAAAADAAAAAwAAAAAAAAAAAAAAAwAAAAIAAAADAAAAAAAAAAIAAAADAAAAAAAAAAMAAAAAAAAAAwAAAAIAAAAAAAAAAwAAAAMAAAADAAAAAgAAAAMAAAAAAAAAAAAAAAIAAAADAAAAAwAAAAMAAAADAAAAAgAAAAAAAAACAAAAAgAAAAMAAAAAAAAAAgAAAAAAAAADAAAAAAAAAAAAAAADAAAAAAAAAAAAAAAAAAAAAAAAAAMAAAAAAAAAAAAAAAIAAAADAAAAAgAAAAAAAAACAAAAAAAAAAMAAAACAAAAAAAAAAIAAAACAAAAAAAAAAMAAAAAAAAAAgAAAAIAAAADAAAAAAAAAAMAAAAAAAAAAAAAAAMAAAADAAAAAAAAAAMAAAAAAAAAAwAAAAAAAAAAAAAAAgAAAAMAAAADAAAAAAAAAAAAAAADAAAAAgAAAAAAAAAAAAAAAgAAAAMAAAACAAAAAwAAAAIAAAADAAAAAAAAAAAAAAAAAAAAAgAAAAAAAAAAAAAAAwAAAAMAAAAAAAAAAwAAAAMAAAAAAAAAAwAAAAAAAAADAAAAAgAAAAAAAAAAAAAAAAAAAAAAAAADAAAAAAAAAAIAAAADAAAAAwAAAAMAAAAAAAAAAwAAAAAAAAAAAAAAAgAAAAIAAAACAAAAAgAAAAMAAAADAAAAAAAAAAAAAAADAAAAAAAAAAMAAAADAAAAAwAAAAIAAAADAAAAAwAAAAMAAAADAAAAAwAAAAIAAAADAAAAAgAAAAMAAAACAAAAAwAAAAAAAAAAAAAAAAAAAAMAAAAAAAAAAwAAAAAAAAACAAAAAAAAAAMAAAADAAAAAAAAAAAAAAADAAAAAAAAAAIAAAAAAAAAAAAAAAMAAAAAAAAAAAAAAAAAAAACAAAAAwAAAAAAAAADAAAAAgAAAAAAAAADAAAAAwAAAAAAAAACAAAAAwAAAAAAAAAAAAAAAwAAAAAAAAAAAAAAAAAAAAMAAAAAAAAAAwAAAAAAAAACAAAAAAAAAAMAAAAAAAAAAgAAAAMAAAAAAAAAAgAAAAMAAAAAAAAAAwAAAAIAAAADAAAAAwAAAAAAAAADAAAAAwAAAAAAAAADAAAAAgAAAAMAAAAAAAAAAwAAAAMAAAADAAAAAwAAAAMAAAADAAAAAAAAAAIAAAAAAAAAAwAAAAMAAAADAAAAAAAAAAAAAAAAAAAAAgAAAAMAAAADAAAAAAAAAAMAAAACAAAAAwAAAAAAAAACAAAAAgAAAAMAAAADAAAAAgAAAAAAAAADAAAAAwAAAAIAAAADAAAAAAAAAAMAAAADAAAAAAAAAAMAAAADAAAAAwAAAAAAAAADAAAAAAAAAAMAAAADAAAAAgAAAAAAAAACAAAAAAAAAAMAAAACAAAAAgAAAAMAAAAAAAAAAAAAAAMAAAACAAAAAAAAAAAAAAAAAAAAAwAAAAAAAAAAAAAAAwAAAAMAAAADAAAAAAAAAAAAAAADAAAAAwAAAAAAAAADAAAAAAAAAAAAAAADAAAAAwAAAAMAAAAAAAAAAgAAAAAAAAAAAAAAAAAAAAMAAAACAAAAAAAAAAMAAAACAAAAAAAAAAMAAAADAAAAAgAAAAAAAAAAAAAAAwAAAAMAAAACAAAAAAAAAAIAAAAAAAAAAAAAAAMAAAAAAAAAAwAAAAMAAAAAAAAAAAAAAAMAAAAAAAAAAAAAAAMAAAADAAAAAwAAAAAAAAADAAAAAgAAAAAAAAADAAAAAwAAAAIAAAADAAAAAgAAAAIAAAACAAAAAwAAAAMAAAADAAAAAwAAAAAAAAADAAAAAwAAAAMAAAAAAAAAAwAAAAAAAAAAAAAAAAAAAAMAAAAAAAAAAgAAAAMAAAADAAAAAwAAAAMAAAAAAAAAAwAAAAAAAAAAAAAAAAAAAAMAAAAAAAAAAAAAAAMAAAADAAAAAgAAAAMAAAADAAAAAAAAAAMAAAAAAAAAAAAAAAAAAAADAAAAAgAAAAMAAAADAAAAAgAAAAIAAAAAAAAAAAAAAAMAAAAAAAAAAAAAAAMAAAAAAAAAAwAAAAIAAAAAAAAAAgAAAAIAAAAAAAAAAAAAAAMAAAAAAAAAAwAAAAMAAAADAAAAAgAAAAMAAAACAAAAAwAAAAAAAAAAAAAAAAAAAAIAAAAAAAAAAwAAAAMAAAADAAAAAAAAAAAAAAAAAAAAAwAAAAAAAAACAAAAAAAAAAAAAAAAAAAAAAAAAAMAAAADAAAAAAAAAAAAAAAAAAAAAwAAAAAAAAAAAAAAAAAAAAMAAAACAAAAAwAAAAMAAAAAAAAAAgAAAAAAAAAAAAAAAAAAAAAAAAAAAAAAAAAAAAMAAAAAAAAAAgAAAAMAAAADAAAAAwAAAAAAAAAAAAAAAAAAAAIAAAAAAAAAAAAAAAIAAAADAAAAAwAAAAMAAAADAAAAAAAAAAAAAAADAAAAAwAAAAAAAAAAAAAAAwAAAAAAAAADAAAAAgAAAAMAAAAAAAAAAwAAAAIAAAACAAAAAAAAAAAAAAAAAAAAAwAAAAMAAAACAAAAAwAAAAIAAAACAAAAAAAAAAAAAAACAAAAAAAAAAIAAAADAAAAAgAAAAAAAAAAAAAAAwAAAAAAAAACAAAAAwAAAAAAAAAAAAAAAAAAAAMAAAADAAAAAAAAAAMAAAADAAAAAgAAAAMAAAADAAAAAwAAAAMAAAAAAAAAAwAAAAMAAAAAAAAAAAAAAAAAAAADAAAAAgAAAAIAAAADAAAAAwAAAAMAAAAAAAAAAwAAAAIAAAACAAAAAAAAAAIAAAADAAAAAAAAAAMAAAAAAAAAAAAAAAAAAAADAAAAAwAAAAAAAAAAAAAAAwAAAAAAAAADAAAAAwAAAAIAAAAAAAAAAgAAAAIAAAAAAAAAAgAAAAMAAAADAAAAAAAAAAMAAAAAAAAAAAAAAAMAAAAAAAAAAAAAAAMAAAACAAAAAAAAAAAAAAAAAAAAAgAAAAMAAAADAAAAAAAAAAMAAAADAAAAAwAAAAAAAAADAAAAAwAAAAMAAAAAAAAAAAAAAAAAAAADAAAAAwAAAAMAAAAAAAAAAwAAAAIAAAAAAAAAAgAAAAMAAAAAAAAAAwAAAAAAAAADAAAAAwAAAAMAAAAAAAAAAwAAAAAAAAADAAAAAwAAAAAAAAAAAAAAAwAAAAMAAAAAAAAAAAAAAAMAAAAAAAAAAwAAAAAAAAADAAAAAgAAAAMAAAADAAAAAwAAAAAAAAACAAAAAAAAAAMAAAADAAAAAgAAAAMAAAADAAAAAwAAAAMAAAADAAAAAAAAAAAAAAAAAAAAAgAAAAMAAAAAAAAAAgAAAAMAAAACAAAAAAAAAAMAAAACAAAAAAAAAAAAAAAAAAAAAAAAAAMAAAADAAAAAAAAAAIAAAADAAAAAwAAAAAAAAACAAAAAAAAAAMAAAACAAAAAwAAAAMAAAACAAAAAAAAAAMAAAADAAAAAgAAAAMAAAAAAAAAAAAAAAIAAAADAAAAAwAAAAAAAAADAAAAAwAAAAIAAAADAAAAAAAAAAIAAAADAAAAAAAAAAMAAAADAAAAAgAAAAIAAAAAAAAAAwAAAAMAAAACAAAAAwAAAAIAAAAAAAAAAwAAAAAAAAAAAAAAAwAAAAIAAAAAAAAAAwAAAAMAAAAAAAAAAwAAAAMAAAADAAAAAAAAAAIAAAADAAAAAAAAAAAAAAADAAAAAgAAAAAAAAAAAAAAAgAAAAMAAAACAAAAAAAAAAAAAAAAAAAAAwAAAAAAAAAAAAAAAgAAAAAAAAADAAAAAgAAAAIAAAAAAAAAAgAAAAAAAAADAAAAAAAAAAMAAAADAAAAAwAAAAMAAAACAAAAAAAAAAAAAAADAAAAAAAAAAAAAAADAAAAAAAAAAAAAAACAAAAAgAAAAMAAAAAAAAAAAAAAAMAAAACAAAAAgAAAAIAAAAAAAAAAwAAAAMAAAAAAAAAAAAAAAMAAAADAAAAAwAAAAIAAAAAAAAAAwAAAAMAAAADAAAAAAAAAAIAAAACAAAAAgAAAAAAAAADAAAAAAAAAAAAAAAAAAAAAwAAAAAAAAAAAAAAAwAAAAMAAAAAAAAAAwAAAAMAAAAAAAAAAwAAAAIAAAADAAAAAAAAAAAAAAAAAAAAAwAAAAMAAAADAAAAAAAAAAIAAAAAAAAAAAAAAAIAAAAAAAAAAAAAAAMAAAADAAAAAgAAAAMAAAAAAAAAAAAAAAMAAAACAAAA",
           "dtype": "i4"
          },
          "coloraxis": "coloraxis",
          "symbol": "circle"
         },
         "mode": "markers",
         "name": "",
         "showlegend": false,
         "type": "scattergl",
         "x": {
          "bdata": "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",
          "dtype": "f8"
         },
         "xaxis": "x",
         "y": {
          "bdata": "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",
          "dtype": "f8"
         },
         "yaxis": "y"
        }
       ],
       "layout": {
        "coloraxis": {
         "colorbar": {
          "title": {
           "text": "Cluster"
          }
         },
         "colorscale": [
          [
           0,
           "#0d0887"
          ],
          [
           0.1111111111111111,
           "#46039f"
          ],
          [
           0.2222222222222222,
           "#7201a8"
          ],
          [
           0.3333333333333333,
           "#9c179e"
          ],
          [
           0.4444444444444444,
           "#bd3786"
          ],
          [
           0.5555555555555556,
           "#d8576b"
          ],
          [
           0.6666666666666666,
           "#ed7953"
          ],
          [
           0.7777777777777778,
           "#fb9f3a"
          ],
          [
           0.8888888888888888,
           "#fdca26"
          ],
          [
           1,
           "#f0f921"
          ]
         ]
        },
        "legend": {
         "tracegroupgap": 0
        },
        "template": {
         "data": {
          "bar": [
           {
            "error_x": {
             "color": "#2a3f5f"
            },
            "error_y": {
             "color": "#2a3f5f"
            },
            "marker": {
             "line": {
              "color": "#E5ECF6",
              "width": 0.5
             },
             "pattern": {
              "fillmode": "overlay",
              "size": 10,
              "solidity": 0.2
             }
            },
            "type": "bar"
           }
          ],
          "barpolar": [
           {
            "marker": {
             "line": {
              "color": "#E5ECF6",
              "width": 0.5
             },
             "pattern": {
              "fillmode": "overlay",
              "size": 10,
              "solidity": 0.2
             }
            },
            "type": "barpolar"
           }
          ],
          "carpet": [
           {
            "aaxis": {
             "endlinecolor": "#2a3f5f",
             "gridcolor": "white",
             "linecolor": "white",
             "minorgridcolor": "white",
             "startlinecolor": "#2a3f5f"
            },
            "baxis": {
             "endlinecolor": "#2a3f5f",
             "gridcolor": "white",
             "linecolor": "white",
             "minorgridcolor": "white",
             "startlinecolor": "#2a3f5f"
            },
            "type": "carpet"
           }
          ],
          "choropleth": [
           {
            "colorbar": {
             "outlinewidth": 0,
             "ticks": ""
            },
            "type": "choropleth"
           }
          ],
          "contour": [
           {
            "colorbar": {
             "outlinewidth": 0,
             "ticks": ""
            },
            "colorscale": [
             [
              0,
              "#0d0887"
             ],
             [
              0.1111111111111111,
              "#46039f"
             ],
             [
              0.2222222222222222,
              "#7201a8"
             ],
             [
              0.3333333333333333,
              "#9c179e"
             ],
             [
              0.4444444444444444,
              "#bd3786"
             ],
             [
              0.5555555555555556,
              "#d8576b"
             ],
             [
              0.6666666666666666,
              "#ed7953"
             ],
             [
              0.7777777777777778,
              "#fb9f3a"
             ],
             [
              0.8888888888888888,
              "#fdca26"
             ],
             [
              1,
              "#f0f921"
             ]
            ],
            "type": "contour"
           }
          ],
          "contourcarpet": [
           {
            "colorbar": {
             "outlinewidth": 0,
             "ticks": ""
            },
            "type": "contourcarpet"
           }
          ],
          "heatmap": [
           {
            "colorbar": {
             "outlinewidth": 0,
             "ticks": ""
            },
            "colorscale": [
             [
              0,
              "#0d0887"
             ],
             [
              0.1111111111111111,
              "#46039f"
             ],
             [
              0.2222222222222222,
              "#7201a8"
             ],
             [
              0.3333333333333333,
              "#9c179e"
             ],
             [
              0.4444444444444444,
              "#bd3786"
             ],
             [
              0.5555555555555556,
              "#d8576b"
             ],
             [
              0.6666666666666666,
              "#ed7953"
             ],
             [
              0.7777777777777778,
              "#fb9f3a"
             ],
             [
              0.8888888888888888,
              "#fdca26"
             ],
             [
              1,
              "#f0f921"
             ]
            ],
            "type": "heatmap"
           }
          ],
          "histogram": [
           {
            "marker": {
             "pattern": {
              "fillmode": "overlay",
              "size": 10,
              "solidity": 0.2
             }
            },
            "type": "histogram"
           }
          ],
          "histogram2d": [
           {
            "colorbar": {
             "outlinewidth": 0,
             "ticks": ""
            },
            "colorscale": [
             [
              0,
              "#0d0887"
             ],
             [
              0.1111111111111111,
              "#46039f"
             ],
             [
              0.2222222222222222,
              "#7201a8"
             ],
             [
              0.3333333333333333,
              "#9c179e"
             ],
             [
              0.4444444444444444,
              "#bd3786"
             ],
             [
              0.5555555555555556,
              "#d8576b"
             ],
             [
              0.6666666666666666,
              "#ed7953"
             ],
             [
              0.7777777777777778,
              "#fb9f3a"
             ],
             [
              0.8888888888888888,
              "#fdca26"
             ],
             [
              1,
              "#f0f921"
             ]
            ],
            "type": "histogram2d"
           }
          ],
          "histogram2dcontour": [
           {
            "colorbar": {
             "outlinewidth": 0,
             "ticks": ""
            },
            "colorscale": [
             [
              0,
              "#0d0887"
             ],
             [
              0.1111111111111111,
              "#46039f"
             ],
             [
              0.2222222222222222,
              "#7201a8"
             ],
             [
              0.3333333333333333,
              "#9c179e"
             ],
             [
              0.4444444444444444,
              "#bd3786"
             ],
             [
              0.5555555555555556,
              "#d8576b"
             ],
             [
              0.6666666666666666,
              "#ed7953"
             ],
             [
              0.7777777777777778,
              "#fb9f3a"
             ],
             [
              0.8888888888888888,
              "#fdca26"
             ],
             [
              1,
              "#f0f921"
             ]
            ],
            "type": "histogram2dcontour"
           }
          ],
          "mesh3d": [
           {
            "colorbar": {
             "outlinewidth": 0,
             "ticks": ""
            },
            "type": "mesh3d"
           }
          ],
          "parcoords": [
           {
            "line": {
             "colorbar": {
              "outlinewidth": 0,
              "ticks": ""
             }
            },
            "type": "parcoords"
           }
          ],
          "pie": [
           {
            "automargin": true,
            "type": "pie"
           }
          ],
          "scatter": [
           {
            "fillpattern": {
             "fillmode": "overlay",
             "size": 10,
             "solidity": 0.2
            },
            "type": "scatter"
           }
          ],
          "scatter3d": [
           {
            "line": {
             "colorbar": {
              "outlinewidth": 0,
              "ticks": ""
             }
            },
            "marker": {
             "colorbar": {
              "outlinewidth": 0,
              "ticks": ""
             }
            },
            "type": "scatter3d"
           }
          ],
          "scattercarpet": [
           {
            "marker": {
             "colorbar": {
              "outlinewidth": 0,
              "ticks": ""
             }
            },
            "type": "scattercarpet"
           }
          ],
          "scattergeo": [
           {
            "marker": {
             "colorbar": {
              "outlinewidth": 0,
              "ticks": ""
             }
            },
            "type": "scattergeo"
           }
          ],
          "scattergl": [
           {
            "marker": {
             "colorbar": {
              "outlinewidth": 0,
              "ticks": ""
             }
            },
            "type": "scattergl"
           }
          ],
          "scattermap": [
           {
            "marker": {
             "colorbar": {
              "outlinewidth": 0,
              "ticks": ""
             }
            },
            "type": "scattermap"
           }
          ],
          "scattermapbox": [
           {
            "marker": {
             "colorbar": {
              "outlinewidth": 0,
              "ticks": ""
             }
            },
            "type": "scattermapbox"
           }
          ],
          "scatterpolar": [
           {
            "marker": {
             "colorbar": {
              "outlinewidth": 0,
              "ticks": ""
             }
            },
            "type": "scatterpolar"
           }
          ],
          "scatterpolargl": [
           {
            "marker": {
             "colorbar": {
              "outlinewidth": 0,
              "ticks": ""
             }
            },
            "type": "scatterpolargl"
           }
          ],
          "scatterternary": [
           {
            "marker": {
             "colorbar": {
              "outlinewidth": 0,
              "ticks": ""
             }
            },
            "type": "scatterternary"
           }
          ],
          "surface": [
           {
            "colorbar": {
             "outlinewidth": 0,
             "ticks": ""
            },
            "colorscale": [
             [
              0,
              "#0d0887"
             ],
             [
              0.1111111111111111,
              "#46039f"
             ],
             [
              0.2222222222222222,
              "#7201a8"
             ],
             [
              0.3333333333333333,
              "#9c179e"
             ],
             [
              0.4444444444444444,
              "#bd3786"
             ],
             [
              0.5555555555555556,
              "#d8576b"
             ],
             [
              0.6666666666666666,
              "#ed7953"
             ],
             [
              0.7777777777777778,
              "#fb9f3a"
             ],
             [
              0.8888888888888888,
              "#fdca26"
             ],
             [
              1,
              "#f0f921"
             ]
            ],
            "type": "surface"
           }
          ],
          "table": [
           {
            "cells": {
             "fill": {
              "color": "#EBF0F8"
             },
             "line": {
              "color": "white"
             }
            },
            "header": {
             "fill": {
              "color": "#C8D4E3"
             },
             "line": {
              "color": "white"
             }
            },
            "type": "table"
           }
          ]
         },
         "layout": {
          "annotationdefaults": {
           "arrowcolor": "#2a3f5f",
           "arrowhead": 0,
           "arrowwidth": 1
          },
          "autotypenumbers": "strict",
          "coloraxis": {
           "colorbar": {
            "outlinewidth": 0,
            "ticks": ""
           }
          },
          "colorscale": {
           "diverging": [
            [
             0,
             "#8e0152"
            ],
            [
             0.1,
             "#c51b7d"
            ],
            [
             0.2,
             "#de77ae"
            ],
            [
             0.3,
             "#f1b6da"
            ],
            [
             0.4,
             "#fde0ef"
            ],
            [
             0.5,
             "#f7f7f7"
            ],
            [
             0.6,
             "#e6f5d0"
            ],
            [
             0.7,
             "#b8e186"
            ],
            [
             0.8,
             "#7fbc41"
            ],
            [
             0.9,
             "#4d9221"
            ],
            [
             1,
             "#276419"
            ]
           ],
           "sequential": [
            [
             0,
             "#0d0887"
            ],
            [
             0.1111111111111111,
             "#46039f"
            ],
            [
             0.2222222222222222,
             "#7201a8"
            ],
            [
             0.3333333333333333,
             "#9c179e"
            ],
            [
             0.4444444444444444,
             "#bd3786"
            ],
            [
             0.5555555555555556,
             "#d8576b"
            ],
            [
             0.6666666666666666,
             "#ed7953"
            ],
            [
             0.7777777777777778,
             "#fb9f3a"
            ],
            [
             0.8888888888888888,
             "#fdca26"
            ],
            [
             1,
             "#f0f921"
            ]
           ],
           "sequentialminus": [
            [
             0,
             "#0d0887"
            ],
            [
             0.1111111111111111,
             "#46039f"
            ],
            [
             0.2222222222222222,
             "#7201a8"
            ],
            [
             0.3333333333333333,
             "#9c179e"
            ],
            [
             0.4444444444444444,
             "#bd3786"
            ],
            [
             0.5555555555555556,
             "#d8576b"
            ],
            [
             0.6666666666666666,
             "#ed7953"
            ],
            [
             0.7777777777777778,
             "#fb9f3a"
            ],
            [
             0.8888888888888888,
             "#fdca26"
            ],
            [
             1,
             "#f0f921"
            ]
           ]
          },
          "colorway": [
           "#636efa",
           "#EF553B",
           "#00cc96",
           "#ab63fa",
           "#FFA15A",
           "#19d3f3",
           "#FF6692",
           "#B6E880",
           "#FF97FF",
           "#FECB52"
          ],
          "font": {
           "color": "#2a3f5f"
          },
          "geo": {
           "bgcolor": "white",
           "lakecolor": "white",
           "landcolor": "#E5ECF6",
           "showlakes": true,
           "showland": true,
           "subunitcolor": "white"
          },
          "hoverlabel": {
           "align": "left"
          },
          "hovermode": "closest",
          "mapbox": {
           "style": "light"
          },
          "paper_bgcolor": "white",
          "plot_bgcolor": "#E5ECF6",
          "polar": {
           "angularaxis": {
            "gridcolor": "white",
            "linecolor": "white",
            "ticks": ""
           },
           "bgcolor": "#E5ECF6",
           "radialaxis": {
            "gridcolor": "white",
            "linecolor": "white",
            "ticks": ""
           }
          },
          "scene": {
           "xaxis": {
            "backgroundcolor": "#E5ECF6",
            "gridcolor": "white",
            "gridwidth": 2,
            "linecolor": "white",
            "showbackground": true,
            "ticks": "",
            "zerolinecolor": "white"
           },
           "yaxis": {
            "backgroundcolor": "#E5ECF6",
            "gridcolor": "white",
            "gridwidth": 2,
            "linecolor": "white",
            "showbackground": true,
            "ticks": "",
            "zerolinecolor": "white"
           },
           "zaxis": {
            "backgroundcolor": "#E5ECF6",
            "gridcolor": "white",
            "gridwidth": 2,
            "linecolor": "white",
            "showbackground": true,
            "ticks": "",
            "zerolinecolor": "white"
           }
          },
          "shapedefaults": {
           "line": {
            "color": "#2a3f5f"
           }
          },
          "ternary": {
           "aaxis": {
            "gridcolor": "white",
            "linecolor": "white",
            "ticks": ""
           },
           "baxis": {
            "gridcolor": "white",
            "linecolor": "white",
            "ticks": ""
           },
           "bgcolor": "#E5ECF6",
           "caxis": {
            "gridcolor": "white",
            "linecolor": "white",
            "ticks": ""
           }
          },
          "title": {
           "x": 0.05
          },
          "xaxis": {
           "automargin": true,
           "gridcolor": "white",
           "linecolor": "white",
           "ticks": "",
           "title": {
            "standoff": 15
           },
           "zerolinecolor": "white",
           "zerolinewidth": 2
          },
          "yaxis": {
           "automargin": true,
           "gridcolor": "white",
           "linecolor": "white",
           "ticks": "",
           "title": {
            "standoff": 15
           },
           "zerolinecolor": "white",
           "zerolinewidth": 2
          }
         }
        },
        "title": {
         "text": "Customer Segments Visualized with PCA"
        },
        "xaxis": {
         "anchor": "y",
         "domain": [
          0,
          1
         ],
         "title": {
          "text": "Principal Component 1"
         }
        },
        "yaxis": {
         "anchor": "x",
         "domain": [
          0,
          1
         ],
         "title": {
          "text": "Principal Component 2"
         }
        }
       }
      }
     },
     "metadata": {},
     "output_type": "display_data"
    }
   ],
   "source": [
    "fig = px.scatter(df_pca, x='PCA1', y='PCA2', color='Cluster', \n",
    "                 title='Customer Segments Visualized with PCA',\n",
    "                 labels={'PCA1': 'Principal Component 1', 'PCA2': 'Principal Component 2'})\n",
    "fig.show()"
   ]
  },
  {
   "cell_type": "markdown",
   "id": "e34ca48f",
   "metadata": {},
   "source": [
    "## Step 11: Save Clustered Dataset\n",
    "\n",
    "Export the dataset with cluster labels for further analysis or visualization."
   ]
  },
  {
   "cell_type": "code",
   "execution_count": 15,
   "id": "beb327b7",
   "metadata": {},
   "outputs": [
    {
     "name": "stdout",
     "output_type": "stream",
     "text": [
      "Dataset with cluster labels saved to 'shopping_trends_clustered.csv'\n"
     ]
    }
   ],
   "source": [
    "df.to_csv('shopping_trends_clustered.csv', index=False)\n",
    "print(\"Dataset with cluster labels saved to 'shopping_trends_clustered.csv'\")"
   ]
  },
  {
   "cell_type": "markdown",
   "id": "998b3f8f",
   "metadata": {},
   "source": [
    "## Explanation of Clustering Steps\n",
    "\n",
    "- **Preprocessing:** Scales numerical features and encodes categorical features for clustering.\n",
    "- **Elbow/Silhouette:** Helps select the optimal number of clusters.\n",
    "- **K-Means:** Segments customers into distinct groups.\n",
    "- **Evaluation:** Summarizes cluster characteristics for business insights.\n",
    "- **Visualization:** PCA scatter plot shows cluster separation.\n",
    "- **Saving:** Cluster labels are added for downstream analysis."
   ]
  }
 ],
 "metadata": {
  "kernelspec": {
   "display_name": "Python 3",
   "language": "python",
   "name": "python3"
  },
  "language_info": {
   "codemirror_mode": {
    "name": "ipython",
    "version": 3
   },
   "file_extension": ".py",
   "mimetype": "text/x-python",
   "name": "python",
   "nbconvert_exporter": "python",
   "pygments_lexer": "ipython3",
   "version": "3.12.10"
  }
 },
 "nbformat": 4,
 "nbformat_minor": 5
}
